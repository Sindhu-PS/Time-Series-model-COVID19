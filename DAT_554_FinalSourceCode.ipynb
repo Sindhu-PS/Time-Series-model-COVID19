{
 "cells": [
  {
   "cell_type": "code",
   "execution_count": 1,
   "metadata": {},
   "outputs": [],
   "source": [
    "import os\n",
    "import pandas as pd\n",
    "import numpy as np\n",
    "from statsmodels.tsa.stattools import adfuller\n",
    "from numpy import log\n",
    "from matplotlib import pyplot as plt\n",
    "from statsmodels.graphics.tsaplots import plot_acf, plot_pacf\n",
    "from statsmodels.tsa.arima.model import ARIMA\n",
    "from pmdarima.arima import auto_arima \n",
    "from sklearn.model_selection import train_test_split\n",
    "from tqdm import tqdm\n",
    "from matplotlib import pyplot\n",
    "import math"
   ]
  },
  {
   "cell_type": "code",
   "execution_count": 2,
   "metadata": {},
   "outputs": [],
   "source": [
    "input = pd.read_csv(\"//Users//sweethome//Desktop//UIS//Dataanalytics_capstone//owid_covid_data.csv\")"
   ]
  },
  {
   "cell_type": "code",
   "execution_count": 62,
   "metadata": {},
   "outputs": [
    {
     "name": "stdout",
     "output_type": "stream",
     "text": [
      "         date iso_code continent     location  total_cases  new_cases  \\\n",
      "0  2020-02-24      AFG      Asia  Afghanistan          5.0        5.0   \n",
      "1  2020-02-25      AFG      Asia  Afghanistan          5.0        0.0   \n",
      "2  2020-02-26      AFG      Asia  Afghanistan          5.0        0.0   \n",
      "3  2020-02-27      AFG      Asia  Afghanistan          5.0        0.0   \n",
      "4  2020-02-28      AFG      Asia  Afghanistan          5.0        0.0   \n",
      "\n",
      "   new_cases_smoothed  total_deaths  new_deaths  new_deaths_smoothed  ...  \\\n",
      "0                 NaN           NaN         NaN                  NaN  ...   \n",
      "1                 NaN           NaN         NaN                  NaN  ...   \n",
      "2                 NaN           NaN         NaN                  NaN  ...   \n",
      "3                 NaN           NaN         NaN                  NaN  ...   \n",
      "4                 NaN           NaN         NaN                  NaN  ...   \n",
      "\n",
      "   hospital_beds_per_thousand  life_expectancy  human_development_index  \\\n",
      "0                         0.5            64.83                    0.511   \n",
      "1                         0.5            64.83                    0.511   \n",
      "2                         0.5            64.83                    0.511   \n",
      "3                         0.5            64.83                    0.511   \n",
      "4                         0.5            64.83                    0.511   \n",
      "\n",
      "   excess_mortality_cumulative_absolute  excess_mortality_cumulative  \\\n",
      "0                                   NaN                          NaN   \n",
      "1                                   NaN                          NaN   \n",
      "2                                   NaN                          NaN   \n",
      "3                                   NaN                          NaN   \n",
      "4                                   NaN                          NaN   \n",
      "\n",
      "   excess_mortality  excess_mortality_cumulative_per_million  day  month  year  \n",
      "0               NaN                                      NaN   24      2  2020  \n",
      "1               NaN                                      NaN   25      2  2020  \n",
      "2               NaN                                      NaN   26      2  2020  \n",
      "3               NaN                                      NaN   27      2  2020  \n",
      "4               NaN                                      NaN   28      2  2020  \n",
      "\n",
      "[5 rows x 70 columns]\n",
      "(213332, 70)\n"
     ]
    }
   ],
   "source": [
    "print(input.head())\n",
    "print(input.shape)"
   ]
  },
  {
   "cell_type": "code",
   "execution_count": 63,
   "metadata": {},
   "outputs": [
    {
     "name": "stdout",
     "output_type": "stream",
     "text": [
      "0.9665029156432228\n"
     ]
    },
    {
     "data": {
      "text/plain": [
       "date                                            0\n",
       "iso_code                                        0\n",
       "continent                                   12296\n",
       "location                                        0\n",
       "total_cases                                  8907\n",
       "                                            ...  \n",
       "excess_mortality                           206143\n",
       "excess_mortality_cumulative_per_million    206186\n",
       "day                                             0\n",
       "month                                           0\n",
       "year                                            0\n",
       "Length: 70, dtype: int64"
      ]
     },
     "execution_count": 63,
     "metadata": {},
     "output_type": "execute_result"
    }
   ],
   "source": [
    "print(206186/213332)\n",
    "input.isna().sum()"
   ]
  },
  {
   "cell_type": "code",
   "execution_count": 5,
   "metadata": {},
   "outputs": [],
   "source": [
    "#removing columns with too many missing values\n",
    "data= input.drop([\"excess_mortality\",\"excess_mortality_cumulative_per_million\",\"weekly_hosp_admissions\",\"weekly_hosp_admissions_per_million\",\n",
    "                   \"weekly_icu_admissions_per_million\",\"weekly_icu_admissions\",\"total_boosters\",\"total_boosters_per_hundred\",\n",
    "                   \"excess_mortality_cumulative_absolute\",\"excess_mortality_cumulative\",\"total_boosters\",\"total_boosters_per_hundred\",\n",
    "                   \"icu_patients\",\"icu_patients_per_million\",\"hosp_patients\",\"hosp_patients_per_million\"],axis=1)"
   ]
  },
  {
   "cell_type": "code",
   "execution_count": 6,
   "metadata": {},
   "outputs": [
    {
     "data": {
      "text/plain": [
       "(213332, 56)"
      ]
     },
     "execution_count": 6,
     "metadata": {},
     "output_type": "execute_result"
    }
   ],
   "source": [
    "data.shape"
   ]
  },
  {
   "cell_type": "code",
   "execution_count": 7,
   "metadata": {},
   "outputs": [
    {
     "data": {
      "text/html": [
       "<div>\n",
       "<style scoped>\n",
       "    .dataframe tbody tr th:only-of-type {\n",
       "        vertical-align: middle;\n",
       "    }\n",
       "\n",
       "    .dataframe tbody tr th {\n",
       "        vertical-align: top;\n",
       "    }\n",
       "\n",
       "    .dataframe thead th {\n",
       "        text-align: right;\n",
       "    }\n",
       "</style>\n",
       "<table border=\"1\" class=\"dataframe\">\n",
       "  <thead>\n",
       "    <tr style=\"text-align: right;\">\n",
       "      <th></th>\n",
       "      <th>date</th>\n",
       "      <th>iso_code</th>\n",
       "      <th>continent</th>\n",
       "      <th>location</th>\n",
       "      <th>total_cases</th>\n",
       "      <th>new_cases</th>\n",
       "      <th>new_cases_smoothed</th>\n",
       "      <th>total_deaths</th>\n",
       "      <th>new_deaths</th>\n",
       "      <th>new_deaths_smoothed</th>\n",
       "      <th>...</th>\n",
       "      <th>diabetes_prevalence</th>\n",
       "      <th>female_smokers</th>\n",
       "      <th>male_smokers</th>\n",
       "      <th>handwashing_facilities</th>\n",
       "      <th>hospital_beds_per_thousand</th>\n",
       "      <th>life_expectancy</th>\n",
       "      <th>human_development_index</th>\n",
       "      <th>day</th>\n",
       "      <th>month</th>\n",
       "      <th>year</th>\n",
       "    </tr>\n",
       "  </thead>\n",
       "  <tbody>\n",
       "    <tr>\n",
       "      <th>0</th>\n",
       "      <td>2020-02-24</td>\n",
       "      <td>AFG</td>\n",
       "      <td>Asia</td>\n",
       "      <td>Afghanistan</td>\n",
       "      <td>5.0</td>\n",
       "      <td>5.0</td>\n",
       "      <td>NaN</td>\n",
       "      <td>NaN</td>\n",
       "      <td>NaN</td>\n",
       "      <td>NaN</td>\n",
       "      <td>...</td>\n",
       "      <td>9.59</td>\n",
       "      <td>NaN</td>\n",
       "      <td>NaN</td>\n",
       "      <td>37.746</td>\n",
       "      <td>0.5</td>\n",
       "      <td>64.83</td>\n",
       "      <td>0.511</td>\n",
       "      <td>24</td>\n",
       "      <td>2</td>\n",
       "      <td>2020</td>\n",
       "    </tr>\n",
       "    <tr>\n",
       "      <th>1</th>\n",
       "      <td>2020-02-25</td>\n",
       "      <td>AFG</td>\n",
       "      <td>Asia</td>\n",
       "      <td>Afghanistan</td>\n",
       "      <td>5.0</td>\n",
       "      <td>0.0</td>\n",
       "      <td>NaN</td>\n",
       "      <td>NaN</td>\n",
       "      <td>NaN</td>\n",
       "      <td>NaN</td>\n",
       "      <td>...</td>\n",
       "      <td>9.59</td>\n",
       "      <td>NaN</td>\n",
       "      <td>NaN</td>\n",
       "      <td>37.746</td>\n",
       "      <td>0.5</td>\n",
       "      <td>64.83</td>\n",
       "      <td>0.511</td>\n",
       "      <td>25</td>\n",
       "      <td>2</td>\n",
       "      <td>2020</td>\n",
       "    </tr>\n",
       "    <tr>\n",
       "      <th>2</th>\n",
       "      <td>2020-02-26</td>\n",
       "      <td>AFG</td>\n",
       "      <td>Asia</td>\n",
       "      <td>Afghanistan</td>\n",
       "      <td>5.0</td>\n",
       "      <td>0.0</td>\n",
       "      <td>NaN</td>\n",
       "      <td>NaN</td>\n",
       "      <td>NaN</td>\n",
       "      <td>NaN</td>\n",
       "      <td>...</td>\n",
       "      <td>9.59</td>\n",
       "      <td>NaN</td>\n",
       "      <td>NaN</td>\n",
       "      <td>37.746</td>\n",
       "      <td>0.5</td>\n",
       "      <td>64.83</td>\n",
       "      <td>0.511</td>\n",
       "      <td>26</td>\n",
       "      <td>2</td>\n",
       "      <td>2020</td>\n",
       "    </tr>\n",
       "    <tr>\n",
       "      <th>3</th>\n",
       "      <td>2020-02-27</td>\n",
       "      <td>AFG</td>\n",
       "      <td>Asia</td>\n",
       "      <td>Afghanistan</td>\n",
       "      <td>5.0</td>\n",
       "      <td>0.0</td>\n",
       "      <td>NaN</td>\n",
       "      <td>NaN</td>\n",
       "      <td>NaN</td>\n",
       "      <td>NaN</td>\n",
       "      <td>...</td>\n",
       "      <td>9.59</td>\n",
       "      <td>NaN</td>\n",
       "      <td>NaN</td>\n",
       "      <td>37.746</td>\n",
       "      <td>0.5</td>\n",
       "      <td>64.83</td>\n",
       "      <td>0.511</td>\n",
       "      <td>27</td>\n",
       "      <td>2</td>\n",
       "      <td>2020</td>\n",
       "    </tr>\n",
       "    <tr>\n",
       "      <th>4</th>\n",
       "      <td>2020-02-28</td>\n",
       "      <td>AFG</td>\n",
       "      <td>Asia</td>\n",
       "      <td>Afghanistan</td>\n",
       "      <td>5.0</td>\n",
       "      <td>0.0</td>\n",
       "      <td>NaN</td>\n",
       "      <td>NaN</td>\n",
       "      <td>NaN</td>\n",
       "      <td>NaN</td>\n",
       "      <td>...</td>\n",
       "      <td>9.59</td>\n",
       "      <td>NaN</td>\n",
       "      <td>NaN</td>\n",
       "      <td>37.746</td>\n",
       "      <td>0.5</td>\n",
       "      <td>64.83</td>\n",
       "      <td>0.511</td>\n",
       "      <td>28</td>\n",
       "      <td>2</td>\n",
       "      <td>2020</td>\n",
       "    </tr>\n",
       "  </tbody>\n",
       "</table>\n",
       "<p>5 rows × 56 columns</p>\n",
       "</div>"
      ],
      "text/plain": [
       "         date iso_code continent     location  total_cases  new_cases  \\\n",
       "0  2020-02-24      AFG      Asia  Afghanistan          5.0        5.0   \n",
       "1  2020-02-25      AFG      Asia  Afghanistan          5.0        0.0   \n",
       "2  2020-02-26      AFG      Asia  Afghanistan          5.0        0.0   \n",
       "3  2020-02-27      AFG      Asia  Afghanistan          5.0        0.0   \n",
       "4  2020-02-28      AFG      Asia  Afghanistan          5.0        0.0   \n",
       "\n",
       "   new_cases_smoothed  total_deaths  new_deaths  new_deaths_smoothed  ...  \\\n",
       "0                 NaN           NaN         NaN                  NaN  ...   \n",
       "1                 NaN           NaN         NaN                  NaN  ...   \n",
       "2                 NaN           NaN         NaN                  NaN  ...   \n",
       "3                 NaN           NaN         NaN                  NaN  ...   \n",
       "4                 NaN           NaN         NaN                  NaN  ...   \n",
       "\n",
       "   diabetes_prevalence  female_smokers  male_smokers  handwashing_facilities  \\\n",
       "0                 9.59             NaN           NaN                  37.746   \n",
       "1                 9.59             NaN           NaN                  37.746   \n",
       "2                 9.59             NaN           NaN                  37.746   \n",
       "3                 9.59             NaN           NaN                  37.746   \n",
       "4                 9.59             NaN           NaN                  37.746   \n",
       "\n",
       "   hospital_beds_per_thousand  life_expectancy  human_development_index  day  \\\n",
       "0                         0.5            64.83                    0.511   24   \n",
       "1                         0.5            64.83                    0.511   25   \n",
       "2                         0.5            64.83                    0.511   26   \n",
       "3                         0.5            64.83                    0.511   27   \n",
       "4                         0.5            64.83                    0.511   28   \n",
       "\n",
       "   month  year  \n",
       "0      2  2020  \n",
       "1      2  2020  \n",
       "2      2  2020  \n",
       "3      2  2020  \n",
       "4      2  2020  \n",
       "\n",
       "[5 rows x 56 columns]"
      ]
     },
     "execution_count": 7,
     "metadata": {},
     "output_type": "execute_result"
    }
   ],
   "source": [
    "data.head()"
   ]
  },
  {
   "cell_type": "code",
   "execution_count": 8,
   "metadata": {},
   "outputs": [
    {
     "data": {
      "text/plain": [
       "array(['Asia', nan, 'Europe', 'Africa', 'North America', 'South America',\n",
       "       'Oceania'], dtype=object)"
      ]
     },
     "execution_count": 8,
     "metadata": {},
     "output_type": "execute_result"
    }
   ],
   "source": [
    "data[\"continent\"].unique()"
   ]
  },
  {
   "cell_type": "code",
   "execution_count": 9,
   "metadata": {},
   "outputs": [],
   "source": [
    "#removing the rows where continent is nan\n",
    "data.dropna(subset = ['continent'], inplace=True)"
   ]
  },
  {
   "cell_type": "code",
   "execution_count": 10,
   "metadata": {},
   "outputs": [
    {
     "data": {
      "text/plain": [
       "(201036, 56)"
      ]
     },
     "execution_count": 10,
     "metadata": {},
     "output_type": "execute_result"
    }
   ],
   "source": [
    "data.shape"
   ]
  },
  {
   "cell_type": "code",
   "execution_count": 11,
   "metadata": {},
   "outputs": [],
   "source": [
    "#removing the rows for locations where data is too less and not reliable\n",
    "data=data[~data.location.isin([\"Guam\",\"Guernsey\",\"Jersey\",\"Nauru\",\"Niue\",\"Northern Cyprus\",\"Northern Mariana Islands\", \n",
    "                                \"Pitcairn\",\"PuertoRico\",\"SintMaarten(Dutchpart)\",\"Tokelau\",\"Turkmenistan\",\"Tuvalu\", \n",
    "                                \"United States Virgin Islands\",\"Western Sahara\",\"North Korea\",\"Saint Helena\"])]"
   ]
  },
  {
   "cell_type": "code",
   "execution_count": 12,
   "metadata": {},
   "outputs": [
    {
     "data": {
      "text/plain": [
       "(193424, 56)"
      ]
     },
     "execution_count": 12,
     "metadata": {},
     "output_type": "execute_result"
    }
   ],
   "source": [
    "data.shape"
   ]
  },
  {
   "cell_type": "code",
   "execution_count": 13,
   "metadata": {},
   "outputs": [
    {
     "name": "stdout",
     "output_type": "stream",
     "text": [
      "date                                           object\n",
      "iso_code                                       object\n",
      "continent                                      object\n",
      "location                                       object\n",
      "total_cases                                   float64\n",
      "new_cases                                     float64\n",
      "new_cases_smoothed                            float64\n",
      "total_deaths                                  float64\n",
      "new_deaths                                    float64\n",
      "new_deaths_smoothed                           float64\n",
      "total_cases_per_million                       float64\n",
      "new_cases_per_million                         float64\n",
      "new_cases_smoothed_per_million                float64\n",
      "total_deaths_per_million                      float64\n",
      "new_deaths_per_million                        float64\n",
      "new_deaths_smoothed_per_million               float64\n",
      "reproduction_rate                             float64\n",
      "total_tests                                   float64\n",
      "new_tests                                     float64\n",
      "total_tests_per_thousand                      float64\n",
      "new_tests_per_thousand                        float64\n",
      "new_tests_smoothed                            float64\n",
      "new_tests_smoothed_per_thousand               float64\n",
      "positive_rate                                 float64\n",
      "tests_per_case                                float64\n",
      "tests_units                                    object\n",
      "total_vaccinations                            float64\n",
      "people_vaccinated                             float64\n",
      "people_fully_vaccinated                       float64\n",
      "new_vaccinations                              float64\n",
      "new_vaccinations_smoothed                     float64\n",
      "total_vaccinations_per_hundred                float64\n",
      "people_vaccinated_per_hundred                 float64\n",
      "people_fully_vaccinated_per_hundred           float64\n",
      "new_vaccinations_smoothed_per_million         float64\n",
      "new_people_vaccinated_smoothed                float64\n",
      "new_people_vaccinated_smoothed_per_hundred    float64\n",
      "stringency_index                              float64\n",
      "population                                    float64\n",
      "population_density                            float64\n",
      "median_age                                    float64\n",
      "aged_65_older                                 float64\n",
      "aged_70_older                                 float64\n",
      "gdp_per_capita                                float64\n",
      "extreme_poverty                               float64\n",
      "cardiovasc_death_rate                         float64\n",
      "diabetes_prevalence                           float64\n",
      "female_smokers                                float64\n",
      "male_smokers                                  float64\n",
      "handwashing_facilities                        float64\n",
      "hospital_beds_per_thousand                    float64\n",
      "life_expectancy                               float64\n",
      "human_development_index                       float64\n",
      "day                                             int64\n",
      "month                                           int64\n",
      "year                                            int64\n",
      "dtype: object\n"
     ]
    }
   ],
   "source": [
    "print(data.dtypes)"
   ]
  },
  {
   "cell_type": "code",
   "execution_count": 14,
   "metadata": {},
   "outputs": [],
   "source": [
    "#converting date column of object type to date type\n",
    "data[\"date\"] = pd.to_datetime(data[\"date\"])"
   ]
  },
  {
   "cell_type": "code",
   "execution_count": 15,
   "metadata": {},
   "outputs": [],
   "source": [
    "#preparing data for machine learning\n",
    "data['day of week'] = data['date'].dt.dayofweek"
   ]
  },
  {
   "cell_type": "code",
   "execution_count": 16,
   "metadata": {},
   "outputs": [],
   "source": [
    "data.rename(columns={'day': 'day of month', 'location': 'country'}, inplace=True)"
   ]
  },
  {
   "cell_type": "code",
   "execution_count": 17,
   "metadata": {},
   "outputs": [
    {
     "data": {
      "text/html": [
       "<div>\n",
       "<style scoped>\n",
       "    .dataframe tbody tr th:only-of-type {\n",
       "        vertical-align: middle;\n",
       "    }\n",
       "\n",
       "    .dataframe tbody tr th {\n",
       "        vertical-align: top;\n",
       "    }\n",
       "\n",
       "    .dataframe thead th {\n",
       "        text-align: right;\n",
       "    }\n",
       "</style>\n",
       "<table border=\"1\" class=\"dataframe\">\n",
       "  <thead>\n",
       "    <tr style=\"text-align: right;\">\n",
       "      <th></th>\n",
       "      <th>date</th>\n",
       "      <th>iso_code</th>\n",
       "      <th>continent</th>\n",
       "      <th>country</th>\n",
       "      <th>total_cases</th>\n",
       "      <th>new_cases</th>\n",
       "      <th>new_cases_smoothed</th>\n",
       "      <th>total_deaths</th>\n",
       "      <th>new_deaths</th>\n",
       "      <th>new_deaths_smoothed</th>\n",
       "      <th>...</th>\n",
       "      <th>female_smokers</th>\n",
       "      <th>male_smokers</th>\n",
       "      <th>handwashing_facilities</th>\n",
       "      <th>hospital_beds_per_thousand</th>\n",
       "      <th>life_expectancy</th>\n",
       "      <th>human_development_index</th>\n",
       "      <th>day of month</th>\n",
       "      <th>month</th>\n",
       "      <th>year</th>\n",
       "      <th>day of week</th>\n",
       "    </tr>\n",
       "  </thead>\n",
       "  <tbody>\n",
       "    <tr>\n",
       "      <th>0</th>\n",
       "      <td>2020-02-24</td>\n",
       "      <td>AFG</td>\n",
       "      <td>Asia</td>\n",
       "      <td>Afghanistan</td>\n",
       "      <td>5.0</td>\n",
       "      <td>5.0</td>\n",
       "      <td>NaN</td>\n",
       "      <td>NaN</td>\n",
       "      <td>NaN</td>\n",
       "      <td>NaN</td>\n",
       "      <td>...</td>\n",
       "      <td>NaN</td>\n",
       "      <td>NaN</td>\n",
       "      <td>37.746</td>\n",
       "      <td>0.5</td>\n",
       "      <td>64.83</td>\n",
       "      <td>0.511</td>\n",
       "      <td>24</td>\n",
       "      <td>2</td>\n",
       "      <td>2020</td>\n",
       "      <td>0</td>\n",
       "    </tr>\n",
       "    <tr>\n",
       "      <th>1</th>\n",
       "      <td>2020-02-25</td>\n",
       "      <td>AFG</td>\n",
       "      <td>Asia</td>\n",
       "      <td>Afghanistan</td>\n",
       "      <td>5.0</td>\n",
       "      <td>0.0</td>\n",
       "      <td>NaN</td>\n",
       "      <td>NaN</td>\n",
       "      <td>NaN</td>\n",
       "      <td>NaN</td>\n",
       "      <td>...</td>\n",
       "      <td>NaN</td>\n",
       "      <td>NaN</td>\n",
       "      <td>37.746</td>\n",
       "      <td>0.5</td>\n",
       "      <td>64.83</td>\n",
       "      <td>0.511</td>\n",
       "      <td>25</td>\n",
       "      <td>2</td>\n",
       "      <td>2020</td>\n",
       "      <td>1</td>\n",
       "    </tr>\n",
       "    <tr>\n",
       "      <th>2</th>\n",
       "      <td>2020-02-26</td>\n",
       "      <td>AFG</td>\n",
       "      <td>Asia</td>\n",
       "      <td>Afghanistan</td>\n",
       "      <td>5.0</td>\n",
       "      <td>0.0</td>\n",
       "      <td>NaN</td>\n",
       "      <td>NaN</td>\n",
       "      <td>NaN</td>\n",
       "      <td>NaN</td>\n",
       "      <td>...</td>\n",
       "      <td>NaN</td>\n",
       "      <td>NaN</td>\n",
       "      <td>37.746</td>\n",
       "      <td>0.5</td>\n",
       "      <td>64.83</td>\n",
       "      <td>0.511</td>\n",
       "      <td>26</td>\n",
       "      <td>2</td>\n",
       "      <td>2020</td>\n",
       "      <td>2</td>\n",
       "    </tr>\n",
       "    <tr>\n",
       "      <th>3</th>\n",
       "      <td>2020-02-27</td>\n",
       "      <td>AFG</td>\n",
       "      <td>Asia</td>\n",
       "      <td>Afghanistan</td>\n",
       "      <td>5.0</td>\n",
       "      <td>0.0</td>\n",
       "      <td>NaN</td>\n",
       "      <td>NaN</td>\n",
       "      <td>NaN</td>\n",
       "      <td>NaN</td>\n",
       "      <td>...</td>\n",
       "      <td>NaN</td>\n",
       "      <td>NaN</td>\n",
       "      <td>37.746</td>\n",
       "      <td>0.5</td>\n",
       "      <td>64.83</td>\n",
       "      <td>0.511</td>\n",
       "      <td>27</td>\n",
       "      <td>2</td>\n",
       "      <td>2020</td>\n",
       "      <td>3</td>\n",
       "    </tr>\n",
       "    <tr>\n",
       "      <th>4</th>\n",
       "      <td>2020-02-28</td>\n",
       "      <td>AFG</td>\n",
       "      <td>Asia</td>\n",
       "      <td>Afghanistan</td>\n",
       "      <td>5.0</td>\n",
       "      <td>0.0</td>\n",
       "      <td>NaN</td>\n",
       "      <td>NaN</td>\n",
       "      <td>NaN</td>\n",
       "      <td>NaN</td>\n",
       "      <td>...</td>\n",
       "      <td>NaN</td>\n",
       "      <td>NaN</td>\n",
       "      <td>37.746</td>\n",
       "      <td>0.5</td>\n",
       "      <td>64.83</td>\n",
       "      <td>0.511</td>\n",
       "      <td>28</td>\n",
       "      <td>2</td>\n",
       "      <td>2020</td>\n",
       "      <td>4</td>\n",
       "    </tr>\n",
       "  </tbody>\n",
       "</table>\n",
       "<p>5 rows × 57 columns</p>\n",
       "</div>"
      ],
      "text/plain": [
       "        date iso_code continent      country  total_cases  new_cases  \\\n",
       "0 2020-02-24      AFG      Asia  Afghanistan          5.0        5.0   \n",
       "1 2020-02-25      AFG      Asia  Afghanistan          5.0        0.0   \n",
       "2 2020-02-26      AFG      Asia  Afghanistan          5.0        0.0   \n",
       "3 2020-02-27      AFG      Asia  Afghanistan          5.0        0.0   \n",
       "4 2020-02-28      AFG      Asia  Afghanistan          5.0        0.0   \n",
       "\n",
       "   new_cases_smoothed  total_deaths  new_deaths  new_deaths_smoothed  ...  \\\n",
       "0                 NaN           NaN         NaN                  NaN  ...   \n",
       "1                 NaN           NaN         NaN                  NaN  ...   \n",
       "2                 NaN           NaN         NaN                  NaN  ...   \n",
       "3                 NaN           NaN         NaN                  NaN  ...   \n",
       "4                 NaN           NaN         NaN                  NaN  ...   \n",
       "\n",
       "   female_smokers  male_smokers  handwashing_facilities  \\\n",
       "0             NaN           NaN                  37.746   \n",
       "1             NaN           NaN                  37.746   \n",
       "2             NaN           NaN                  37.746   \n",
       "3             NaN           NaN                  37.746   \n",
       "4             NaN           NaN                  37.746   \n",
       "\n",
       "   hospital_beds_per_thousand  life_expectancy  human_development_index  \\\n",
       "0                         0.5            64.83                    0.511   \n",
       "1                         0.5            64.83                    0.511   \n",
       "2                         0.5            64.83                    0.511   \n",
       "3                         0.5            64.83                    0.511   \n",
       "4                         0.5            64.83                    0.511   \n",
       "\n",
       "   day of month  month  year  day of week  \n",
       "0            24      2  2020            0  \n",
       "1            25      2  2020            1  \n",
       "2            26      2  2020            2  \n",
       "3            27      2  2020            3  \n",
       "4            28      2  2020            4  \n",
       "\n",
       "[5 rows x 57 columns]"
      ]
     },
     "execution_count": 17,
     "metadata": {},
     "output_type": "execute_result"
    }
   ],
   "source": [
    "data.head()"
   ]
  },
  {
   "cell_type": "code",
   "execution_count": 18,
   "metadata": {},
   "outputs": [],
   "source": [
    "data_usa=data[data.country.isin([\"United States\"])]"
   ]
  },
  {
   "cell_type": "code",
   "execution_count": 19,
   "metadata": {},
   "outputs": [],
   "source": [
    "data_usa_train=data_usa[(data_usa['date']>='2020-02-01') & \n",
    "                                    (data_usa['date']<'2022-07-24')]\n",
    "data_usa_test=data_usa[(data_usa['date']>='2022-07-25') & \n",
    "                                    (data_usa['date']<'2022-08-08')]"
   ]
  },
  {
   "cell_type": "code",
   "execution_count": 20,
   "metadata": {},
   "outputs": [
    {
     "data": {
      "text/plain": [
       "904"
      ]
     },
     "execution_count": 20,
     "metadata": {},
     "output_type": "execute_result"
    }
   ],
   "source": [
    "len(data_usa_train)\n"
   ]
  },
  {
   "cell_type": "code",
   "execution_count": 21,
   "metadata": {},
   "outputs": [
    {
     "data": {
      "text/plain": [
       "14"
      ]
     },
     "execution_count": 21,
     "metadata": {},
     "output_type": "execute_result"
    }
   ],
   "source": [
    "len(data_usa_test)\n",
    "#covid_data_usa_train.head(90)"
   ]
  },
  {
   "cell_type": "code",
   "execution_count": 22,
   "metadata": {},
   "outputs": [
    {
     "name": "stdout",
     "output_type": "stream",
     "text": [
      "ADF Statistic: 0.574698\n",
      "p-value: 0.986975\n"
     ]
    }
   ],
   "source": [
    "result = adfuller(data_usa_train.total_cases.dropna())\n",
    "print('ADF Statistic: %f' % result[0])\n",
    "print('p-value: %f' % result[1])"
   ]
  },
  {
   "cell_type": "code",
   "execution_count": 23,
   "metadata": {},
   "outputs": [
    {
     "data": {
      "text/plain": [
       "<AxesSubplot:>"
      ]
     },
     "execution_count": 23,
     "metadata": {},
     "output_type": "execute_result"
    },
    {
     "data": {
      "image/png": "[encoded data removed]",
      "text/plain": [
       "<Figure size 432x288 with 1 Axes>"
      ]
     },
     "metadata": {
      "needs_background": "light"
     },
     "output_type": "display_data"
    }
   ],
   "source": [
    "data_usa_train['total_cases'].plot()"
   ]
  },
  {
   "cell_type": "code",
   "execution_count": 24,
   "metadata": {},
   "outputs": [
    {
     "data": {
      "image/png": "[encoded data removed]",
      "text/plain": [
       "<Figure size 432x288 with 1 Axes>"
      ]
     },
     "execution_count": 24,
     "metadata": {},
     "output_type": "execute_result"
    },
    {
     "data": {
      "image/png": "[encoded data removed]",
      "text/plain": [
       "<Figure size 432x288 with 1 Axes>"
      ]
     },
     "metadata": {
      "needs_background": "light"
     },
     "output_type": "display_data"
    }
   ],
   "source": [
    "plot_acf(data_usa_train['total_cases'].dropna(),lags=30)\n"
   ]
  },
  {
   "cell_type": "code",
   "execution_count": 25,
   "metadata": {},
   "outputs": [
    {
     "name": "stderr",
     "output_type": "stream",
     "text": [
      "/Users/sweethome/opt/anaconda3/lib/python3.8/site-packages/statsmodels/graphics/tsaplots.py:348: FutureWarning: The default method 'yw' can produce PACF values outside of the [-1,1] interval. After 0.13, the default will change tounadjusted Yule-Walker ('ywm'). You can use this method now by setting method='ywm'.\n",
      "  warnings.warn(\n"
     ]
    },
    {
     "data": {
      "image/png": "[encoded data removed]",
      "text/plain": [
       "<Figure size 432x288 with 1 Axes>"
      ]
     },
     "execution_count": 25,
     "metadata": {},
     "output_type": "execute_result"
    },
    {
     "data": {
      "image/png": "[encoded data removed]",
      "text/plain": [
       "<Figure size 432x288 with 1 Axes>"
      ]
     },
     "metadata": {
      "needs_background": "light"
     },
     "output_type": "display_data"
    }
   ],
   "source": [
    "plot_pacf(data_usa_train['total_cases'].dropna(),lags=30)"
   ]
  },
  {
   "cell_type": "code",
   "execution_count": 37,
   "metadata": {},
   "outputs": [],
   "source": [
    "diff1 = data_usa_train['total_cases'].diff()"
   ]
  },
  {
   "cell_type": "code",
   "execution_count": 39,
   "metadata": {},
   "outputs": [
    {
     "name": "stdout",
     "output_type": "stream",
     "text": [
      "ADF Statistic: -4.381461\n",
      "p-value: 0.000320\n"
     ]
    }
   ],
   "source": [
    "result = adfuller(diff1.dropna())\n",
    "print('ADF Statistic: %f' % result[0])\n",
    "print('p-value: %f' % result[1])"
   ]
  },
  {
   "cell_type": "code",
   "execution_count": 41,
   "metadata": {},
   "outputs": [
    {
     "data": {
      "image/png": "[encoded data removed]",
      "text/plain": [
       "<Figure size 432x288 with 1 Axes>"
      ]
     },
     "execution_count": 41,
     "metadata": {},
     "output_type": "execute_result"
    },
    {
     "data": {
      "image/png": "[encoded data removed]",
      "text/plain": [
       "<Figure size 432x288 with 1 Axes>"
      ]
     },
     "metadata": {
      "needs_background": "light"
     },
     "output_type": "display_data"
    }
   ],
   "source": [
    "plot_acf(diff1.dropna(),lags=30)\n"
   ]
  },
  {
   "cell_type": "code",
   "execution_count": 43,
   "metadata": {},
   "outputs": [
    {
     "name": "stderr",
     "output_type": "stream",
     "text": [
      "/Users/sweethome/opt/anaconda3/lib/python3.8/site-packages/statsmodels/graphics/tsaplots.py:348: FutureWarning: The default method 'yw' can produce PACF values outside of the [-1,1] interval. After 0.13, the default will change tounadjusted Yule-Walker ('ywm'). You can use this method now by setting method='ywm'.\n",
      "  warnings.warn(\n"
     ]
    },
    {
     "data": {
      "image/png": "[encoded data removed]",
      "text/plain": [
       "<Figure size 432x288 with 1 Axes>"
      ]
     },
     "execution_count": 43,
     "metadata": {},
     "output_type": "execute_result"
    },
    {
     "data": {
      "image/png": "[encoded data removed]",
      "text/plain": [
       "<Figure size 432x288 with 1 Axes>"
      ]
     },
     "metadata": {
      "needs_background": "light"
     },
     "output_type": "display_data"
    }
   ],
   "source": [
    "plot_pacf(diff1.dropna(),lags=30)"
   ]
  },
  {
   "cell_type": "code",
   "execution_count": 44,
   "metadata": {},
   "outputs": [
    {
     "data": {
      "text/plain": [
       "<AxesSubplot:>"
      ]
     },
     "execution_count": 44,
     "metadata": {},
     "output_type": "execute_result"
    },
    {
     "data": {
      "image/png": "[encoded data removed]",
      "text/plain": [
       "<Figure size 432x288 with 1 Axes>"
      ]
     },
     "metadata": {
      "needs_background": "light"
     },
     "output_type": "display_data"
    }
   ],
   "source": [
    "diff1.plot()"
   ]
  },
  {
   "cell_type": "code",
   "execution_count": 45,
   "metadata": {},
   "outputs": [],
   "source": [
    "\n",
    "diff2 = diff1.diff()"
   ]
  },
  {
   "cell_type": "code",
   "execution_count": 46,
   "metadata": {},
   "outputs": [
    {
     "data": {
      "image/png": "[encoded data removed]",
      "text/plain": [
       "<Figure size 432x288 with 1 Axes>"
      ]
     },
     "execution_count": 46,
     "metadata": {},
     "output_type": "execute_result"
    },
    {
     "data": {
      "image/png": "[encoded data removed]",
      "text/plain": [
       "<Figure size 432x288 with 1 Axes>"
      ]
     },
     "metadata": {
      "needs_background": "light"
     },
     "output_type": "display_data"
    }
   ],
   "source": [
    "plot_acf(diff2.dropna(),lags=30)"
   ]
  },
  {
   "cell_type": "code",
   "execution_count": 47,
   "metadata": {},
   "outputs": [
    {
     "name": "stderr",
     "output_type": "stream",
     "text": [
      "/Users/sweethome/opt/anaconda3/lib/python3.8/site-packages/statsmodels/graphics/tsaplots.py:348: FutureWarning: The default method 'yw' can produce PACF values outside of the [-1,1] interval. After 0.13, the default will change tounadjusted Yule-Walker ('ywm'). You can use this method now by setting method='ywm'.\n",
      "  warnings.warn(\n"
     ]
    },
    {
     "data": {
      "image/png": "[encoded data removed]",
      "text/plain": [
       "<Figure size 432x288 with 1 Axes>"
      ]
     },
     "execution_count": 47,
     "metadata": {},
     "output_type": "execute_result"
    },
    {
     "data": {
      "image/png": "[encoded data removed]",
      "text/plain": [
       "<Figure size 432x288 with 1 Axes>"
      ]
     },
     "metadata": {
      "needs_background": "light"
     },
     "output_type": "display_data"
    }
   ],
   "source": [
    "plot_pacf(diff2.dropna(),lags=30)"
   ]
  },
  {
   "cell_type": "code",
   "execution_count": 48,
   "metadata": {},
   "outputs": [
    {
     "data": {
      "text/plain": [
       "<AxesSubplot:>"
      ]
     },
     "execution_count": 48,
     "metadata": {},
     "output_type": "execute_result"
    },
    {
     "data": {
      "image/png": "[encoded data removed]",
      "text/plain": [
       "<Figure size 432x288 with 1 Axes>"
      ]
     },
     "metadata": {
      "needs_background": "light"
     },
     "output_type": "display_data"
    }
   ],
   "source": [
    "diff2.plot()"
   ]
  },
  {
   "cell_type": "code",
   "execution_count": 73,
   "metadata": {},
   "outputs": [],
   "source": [
    "def arima_forecast(df,order):\n",
    "    model = ARIMA(df['total_cases'], order=order)\n",
    "    return model.fit()"
   ]
  },
  {
   "cell_type": "code",
   "execution_count": 75,
   "metadata": {},
   "outputs": [
    {
     "name": "stderr",
     "output_type": "stream",
     "text": [
      "/Users/sweethome/opt/anaconda3/lib/python3.8/site-packages/statsmodels/tsa/base/tsa_model.py:471: ValueWarning: An unsupported index was provided and will be ignored when e.g. forecasting.\n",
      "  self._init_dates(dates, freq)\n",
      "/Users/sweethome/opt/anaconda3/lib/python3.8/site-packages/statsmodels/tsa/base/tsa_model.py:471: ValueWarning: An unsupported index was provided and will be ignored when e.g. forecasting.\n",
      "  self._init_dates(dates, freq)\n",
      "/Users/sweethome/opt/anaconda3/lib/python3.8/site-packages/statsmodels/tsa/base/tsa_model.py:471: ValueWarning: An unsupported index was provided and will be ignored when e.g. forecasting.\n",
      "  self._init_dates(dates, freq)\n"
     ]
    },
    {
     "name": "stdout",
     "output_type": "stream",
     "text": [
      "                               SARIMAX Results                                \n",
      "==============================================================================\n",
      "Dep. Variable:            total_cases   No. Observations:                  904\n",
      "Model:                 ARIMA(7, 2, 1)   Log Likelihood              -11004.170\n",
      "Date:                Sat, 03 Dec 2022   AIC                          22026.341\n",
      "Time:                        18:03:34   BIC                          22069.583\n",
      "Sample:                             0   HQIC                         22042.858\n",
      "                                - 904                                         \n",
      "Covariance Type:                  opg                                         \n",
      "==============================================================================\n",
      "                 coef    std err          z      P>|z|      [0.025      0.975]\n",
      "------------------------------------------------------------------------------\n",
      "ar.L1          0.0477      0.015      3.267      0.001       0.019       0.076\n",
      "ar.L2         -0.0711      0.017     -4.242      0.000      -0.104      -0.038\n",
      "ar.L3          0.0139      0.013      1.075      0.282      -0.011       0.039\n",
      "ar.L4         -0.0017      0.015     -0.109      0.913      -0.031       0.028\n",
      "ar.L5         -0.0424      0.013     -3.262      0.001      -0.068      -0.017\n",
      "ar.L6          0.0735      0.013      5.789      0.000       0.049       0.098\n",
      "ar.L7          0.6762      0.009     73.995      0.000       0.658       0.694\n",
      "ma.L1         -0.7342      0.011    -67.768      0.000      -0.755      -0.713\n",
      "sigma2      2.801e+09   3.43e-12   8.16e+20      0.000     2.8e+09     2.8e+09\n",
      "===================================================================================\n",
      "Ljung-Box (L1) (Q):                  17.40   Jarque-Bera (JB):            131401.61\n",
      "Prob(Q):                              0.00   Prob(JB):                         0.00\n",
      "Heteroskedasticity (H):              95.65   Skew:                            -0.88\n",
      "Prob(H) (two-sided):                  0.00   Kurtosis:                        62.10\n",
      "===================================================================================\n",
      "\n",
      "Warnings:\n",
      "[1] Covariance matrix calculated using the outer product of gradients (complex-step).\n",
      "[2] Covariance matrix is singular or near-singular, with condition number 1.61e+36. Standard errors may be unstable.\n",
      "                               SARIMAX Results                                \n",
      "==============================================================================\n",
      "Dep. Variable:            total_cases   No. Observations:                  904\n",
      "Model:                 ARIMA(1, 2, 1)   Log Likelihood              -11314.268\n",
      "Date:                Sat, 03 Dec 2022   AIC                          22634.536\n",
      "Time:                        18:03:34   BIC                          22648.950\n",
      "Sample:                             0   HQIC                         22640.042\n",
      "                                - 904                                         \n",
      "Covariance Type:                  opg                                         \n",
      "==============================================================================\n",
      "                 coef    std err          z      P>|z|      [0.025      0.975]\n",
      "------------------------------------------------------------------------------\n",
      "ar.L1          0.1314      0.021      6.315      0.000       0.091       0.172\n",
      "ma.L1         -0.7408      0.013    -54.969      0.000      -0.767      -0.714\n",
      "sigma2      4.957e+09   3.05e-12   1.62e+21      0.000    4.96e+09    4.96e+09\n",
      "===================================================================================\n",
      "Ljung-Box (L1) (Q):                   0.46   Jarque-Bera (JB):             66034.16\n",
      "Prob(Q):                              0.50   Prob(JB):                         0.00\n",
      "Heteroskedasticity (H):             125.57   Skew:                             2.12\n",
      "Prob(H) (two-sided):                  0.00   Kurtosis:                        44.70\n",
      "===================================================================================\n",
      "\n",
      "Warnings:\n",
      "[1] Covariance matrix calculated using the outer product of gradients (complex-step).\n",
      "[2] Covariance matrix is singular or near-singular, with condition number 6.77e+36. Standard errors may be unstable.\n"
     ]
    },
    {
     "name": "stderr",
     "output_type": "stream",
     "text": [
      "/Users/sweethome/opt/anaconda3/lib/python3.8/site-packages/statsmodels/tsa/base/tsa_model.py:471: ValueWarning: An unsupported index was provided and will be ignored when e.g. forecasting.\n",
      "  self._init_dates(dates, freq)\n",
      "/Users/sweethome/opt/anaconda3/lib/python3.8/site-packages/statsmodels/tsa/base/tsa_model.py:471: ValueWarning: An unsupported index was provided and will be ignored when e.g. forecasting.\n",
      "  self._init_dates(dates, freq)\n",
      "/Users/sweethome/opt/anaconda3/lib/python3.8/site-packages/statsmodels/tsa/base/tsa_model.py:471: ValueWarning: An unsupported index was provided and will be ignored when e.g. forecasting.\n",
      "  self._init_dates(dates, freq)\n",
      "/Users/sweethome/opt/anaconda3/lib/python3.8/site-packages/statsmodels/tsa/base/tsa_model.py:471: ValueWarning: An unsupported index was provided and will be ignored when e.g. forecasting.\n",
      "  self._init_dates(dates, freq)\n",
      "/Users/sweethome/opt/anaconda3/lib/python3.8/site-packages/statsmodels/tsa/base/tsa_model.py:471: ValueWarning: An unsupported index was provided and will be ignored when e.g. forecasting.\n",
      "  self._init_dates(dates, freq)\n",
      "/Users/sweethome/opt/anaconda3/lib/python3.8/site-packages/statsmodels/tsa/base/tsa_model.py:471: ValueWarning: An unsupported index was provided and will be ignored when e.g. forecasting.\n",
      "  self._init_dates(dates, freq)\n",
      "/Users/sweethome/opt/anaconda3/lib/python3.8/site-packages/statsmodels/tsa/statespace/sarimax.py:978: UserWarning: Non-invertible starting MA parameters found. Using zeros as starting parameters.\n",
      "  warn('Non-invertible starting MA parameters found.'\n"
     ]
    },
    {
     "name": "stdout",
     "output_type": "stream",
     "text": [
      "                               SARIMAX Results                                \n",
      "==============================================================================\n",
      "Dep. Variable:            total_cases   No. Observations:                  904\n",
      "Model:                 ARIMA(1, 2, 7)   Log Likelihood              -11176.588\n",
      "Date:                Sat, 03 Dec 2022   AIC                          22371.175\n",
      "Time:                        18:03:34   BIC                          22414.417\n",
      "Sample:                             0   HQIC                         22387.692\n",
      "                                - 904                                         \n",
      "Covariance Type:                  opg                                         \n",
      "==============================================================================\n",
      "                 coef    std err          z      P>|z|      [0.025      0.975]\n",
      "------------------------------------------------------------------------------\n",
      "ar.L1         -0.4530      0.056     -8.068      0.000      -0.563      -0.343\n",
      "ma.L1         -0.2139      0.048     -4.467      0.000      -0.308      -0.120\n",
      "ma.L2         -0.3917      0.042     -9.255      0.000      -0.475      -0.309\n",
      "ma.L3          0.0212      0.022      0.977      0.329      -0.021       0.064\n",
      "ma.L4         -0.0593      0.025     -2.345      0.019      -0.109      -0.010\n",
      "ma.L5         -0.2028      0.020    -10.000      0.000      -0.243      -0.163\n",
      "ma.L6          0.1348      0.020      6.752      0.000       0.096       0.174\n",
      "ma.L7          0.4599      0.018     25.223      0.000       0.424       0.496\n",
      "sigma2       4.71e+09   3.45e-12   1.36e+21      0.000    4.71e+09    4.71e+09\n",
      "===================================================================================\n",
      "Ljung-Box (L1) (Q):                   1.28   Jarque-Bera (JB):             50544.64\n",
      "Prob(Q):                              0.26   Prob(JB):                         0.00\n",
      "Heteroskedasticity (H):             107.08   Skew:                             2.40\n",
      "Prob(H) (two-sided):                  0.00   Kurtosis:                        39.36\n",
      "===================================================================================\n",
      "\n",
      "Warnings:\n",
      "[1] Covariance matrix calculated using the outer product of gradients (complex-step).\n",
      "[2] Covariance matrix is singular or near-singular, with condition number 3.99e+37. Standard errors may be unstable.\n"
     ]
    }
   ],
   "source": [
    "model_1 = arima_forecast(data_usa_train,(7,2,1))\n",
    "print(model_1.summary())\n",
    "model_2 = arima_forecast(data_usa_train,(1,2,1))\n",
    "print(model_2.summary())\n",
    "model_3 = arima_forecast(data_usa_train,(1,2,7))\n",
    "print(model_3.summary())"
   ]
  },
  {
   "cell_type": "code",
   "execution_count": 77,
   "metadata": {},
   "outputs": [
    {
     "name": "stderr",
     "output_type": "stream",
     "text": [
      "/Users/sweethome/opt/anaconda3/lib/python3.8/site-packages/statsmodels/tsa/base/tsa_model.py:834: ValueWarning: No supported index is available. Prediction results will be given with an integer index beginning at `start`.\n",
      "  return get_prediction_index(\n"
     ]
    },
    {
     "data": {
      "text/html": [
       "<div>\n",
       "<style scoped>\n",
       "    .dataframe tbody tr th:only-of-type {\n",
       "        vertical-align: middle;\n",
       "    }\n",
       "\n",
       "    .dataframe tbody tr th {\n",
       "        vertical-align: top;\n",
       "    }\n",
       "\n",
       "    .dataframe thead th {\n",
       "        text-align: right;\n",
       "    }\n",
       "</style>\n",
       "<table border=\"1\" class=\"dataframe\">\n",
       "  <thead>\n",
       "    <tr style=\"text-align: right;\">\n",
       "      <th></th>\n",
       "      <th>level_0</th>\n",
       "      <th>index</th>\n",
       "      <th>date</th>\n",
       "      <th>iso_code</th>\n",
       "      <th>continent</th>\n",
       "      <th>country</th>\n",
       "      <th>total_cases</th>\n",
       "      <th>new_cases</th>\n",
       "      <th>new_cases_smoothed</th>\n",
       "      <th>total_deaths</th>\n",
       "      <th>...</th>\n",
       "      <th>male_smokers</th>\n",
       "      <th>handwashing_facilities</th>\n",
       "      <th>hospital_beds_per_thousand</th>\n",
       "      <th>life_expectancy</th>\n",
       "      <th>human_development_index</th>\n",
       "      <th>day of month</th>\n",
       "      <th>month</th>\n",
       "      <th>year</th>\n",
       "      <th>day of week</th>\n",
       "      <th>ARIMA</th>\n",
       "    </tr>\n",
       "  </thead>\n",
       "  <tbody>\n",
       "    <tr>\n",
       "      <th>0</th>\n",
       "      <td>0</td>\n",
       "      <td>201984</td>\n",
       "      <td>2022-07-25</td>\n",
       "      <td>USA</td>\n",
       "      <td>North America</td>\n",
       "      <td>United States</td>\n",
       "      <td>90626223.0</td>\n",
       "      <td>189868.0</td>\n",
       "      <td>125747.286</td>\n",
       "      <td>1027837.0</td>\n",
       "      <td>...</td>\n",
       "      <td>24.6</td>\n",
       "      <td>NaN</td>\n",
       "      <td>2.77</td>\n",
       "      <td>78.86</td>\n",
       "      <td>0.926</td>\n",
       "      <td>25</td>\n",
       "      <td>7</td>\n",
       "      <td>2022</td>\n",
       "      <td>0</td>\n",
       "      <td>9.046537e+07</td>\n",
       "    </tr>\n",
       "    <tr>\n",
       "      <th>1</th>\n",
       "      <td>1</td>\n",
       "      <td>201985</td>\n",
       "      <td>2022-07-26</td>\n",
       "      <td>USA</td>\n",
       "      <td>North America</td>\n",
       "      <td>United States</td>\n",
       "      <td>90758320.0</td>\n",
       "      <td>132097.0</td>\n",
       "      <td>127877.286</td>\n",
       "      <td>1028387.0</td>\n",
       "      <td>...</td>\n",
       "      <td>24.6</td>\n",
       "      <td>NaN</td>\n",
       "      <td>2.77</td>\n",
       "      <td>78.86</td>\n",
       "      <td>0.926</td>\n",
       "      <td>26</td>\n",
       "      <td>7</td>\n",
       "      <td>2022</td>\n",
       "      <td>1</td>\n",
       "      <td>9.060974e+07</td>\n",
       "    </tr>\n",
       "    <tr>\n",
       "      <th>2</th>\n",
       "      <td>2</td>\n",
       "      <td>201986</td>\n",
       "      <td>2022-07-27</td>\n",
       "      <td>USA</td>\n",
       "      <td>North America</td>\n",
       "      <td>United States</td>\n",
       "      <td>90998232.0</td>\n",
       "      <td>239912.0</td>\n",
       "      <td>131222.143</td>\n",
       "      <td>1029340.0</td>\n",
       "      <td>...</td>\n",
       "      <td>24.6</td>\n",
       "      <td>NaN</td>\n",
       "      <td>2.77</td>\n",
       "      <td>78.86</td>\n",
       "      <td>0.926</td>\n",
       "      <td>27</td>\n",
       "      <td>7</td>\n",
       "      <td>2022</td>\n",
       "      <td>2</td>\n",
       "      <td>9.073185e+07</td>\n",
       "    </tr>\n",
       "    <tr>\n",
       "      <th>3</th>\n",
       "      <td>3</td>\n",
       "      <td>201987</td>\n",
       "      <td>2022-07-28</td>\n",
       "      <td>USA</td>\n",
       "      <td>North America</td>\n",
       "      <td>United States</td>\n",
       "      <td>91175175.0</td>\n",
       "      <td>176943.0</td>\n",
       "      <td>131448.857</td>\n",
       "      <td>1029740.0</td>\n",
       "      <td>...</td>\n",
       "      <td>24.6</td>\n",
       "      <td>NaN</td>\n",
       "      <td>2.77</td>\n",
       "      <td>78.86</td>\n",
       "      <td>0.926</td>\n",
       "      <td>28</td>\n",
       "      <td>7</td>\n",
       "      <td>2022</td>\n",
       "      <td>3</td>\n",
       "      <td>9.091287e+07</td>\n",
       "    </tr>\n",
       "    <tr>\n",
       "      <th>4</th>\n",
       "      <td>4</td>\n",
       "      <td>201988</td>\n",
       "      <td>2022-07-29</td>\n",
       "      <td>USA</td>\n",
       "      <td>North America</td>\n",
       "      <td>United States</td>\n",
       "      <td>91334992.0</td>\n",
       "      <td>159817.0</td>\n",
       "      <td>135432.429</td>\n",
       "      <td>1030366.0</td>\n",
       "      <td>...</td>\n",
       "      <td>24.6</td>\n",
       "      <td>NaN</td>\n",
       "      <td>2.77</td>\n",
       "      <td>78.86</td>\n",
       "      <td>0.926</td>\n",
       "      <td>29</td>\n",
       "      <td>7</td>\n",
       "      <td>2022</td>\n",
       "      <td>4</td>\n",
       "      <td>9.107298e+07</td>\n",
       "    </tr>\n",
       "    <tr>\n",
       "      <th>5</th>\n",
       "      <td>5</td>\n",
       "      <td>201989</td>\n",
       "      <td>2022-07-30</td>\n",
       "      <td>USA</td>\n",
       "      <td>North America</td>\n",
       "      <td>United States</td>\n",
       "      <td>91350935.0</td>\n",
       "      <td>15943.0</td>\n",
       "      <td>133962.857</td>\n",
       "      <td>1030397.0</td>\n",
       "      <td>...</td>\n",
       "      <td>24.6</td>\n",
       "      <td>NaN</td>\n",
       "      <td>2.77</td>\n",
       "      <td>78.86</td>\n",
       "      <td>0.926</td>\n",
       "      <td>30</td>\n",
       "      <td>7</td>\n",
       "      <td>2022</td>\n",
       "      <td>5</td>\n",
       "      <td>9.118922e+07</td>\n",
       "    </tr>\n",
       "    <tr>\n",
       "      <th>6</th>\n",
       "      <td>6</td>\n",
       "      <td>201990</td>\n",
       "      <td>2022-07-31</td>\n",
       "      <td>USA</td>\n",
       "      <td>North America</td>\n",
       "      <td>United States</td>\n",
       "      <td>91363870.0</td>\n",
       "      <td>12935.0</td>\n",
       "      <td>132502.143</td>\n",
       "      <td>1030409.0</td>\n",
       "      <td>...</td>\n",
       "      <td>24.6</td>\n",
       "      <td>NaN</td>\n",
       "      <td>2.77</td>\n",
       "      <td>78.86</td>\n",
       "      <td>0.926</td>\n",
       "      <td>31</td>\n",
       "      <td>7</td>\n",
       "      <td>2022</td>\n",
       "      <td>6</td>\n",
       "      <td>9.123222e+07</td>\n",
       "    </tr>\n",
       "    <tr>\n",
       "      <th>7</th>\n",
       "      <td>7</td>\n",
       "      <td>201991</td>\n",
       "      <td>2022-08-01</td>\n",
       "      <td>USA</td>\n",
       "      <td>North America</td>\n",
       "      <td>United States</td>\n",
       "      <td>91533934.0</td>\n",
       "      <td>170064.0</td>\n",
       "      <td>129673.000</td>\n",
       "      <td>1030983.0</td>\n",
       "      <td>...</td>\n",
       "      <td>24.6</td>\n",
       "      <td>NaN</td>\n",
       "      <td>2.77</td>\n",
       "      <td>78.86</td>\n",
       "      <td>0.926</td>\n",
       "      <td>1</td>\n",
       "      <td>8</td>\n",
       "      <td>2022</td>\n",
       "      <td>0</td>\n",
       "      <td>9.129972e+07</td>\n",
       "    </tr>\n",
       "    <tr>\n",
       "      <th>8</th>\n",
       "      <td>8</td>\n",
       "      <td>201992</td>\n",
       "      <td>2022-08-02</td>\n",
       "      <td>USA</td>\n",
       "      <td>North America</td>\n",
       "      <td>United States</td>\n",
       "      <td>91624786.0</td>\n",
       "      <td>90852.0</td>\n",
       "      <td>123780.857</td>\n",
       "      <td>1031493.0</td>\n",
       "      <td>...</td>\n",
       "      <td>24.6</td>\n",
       "      <td>NaN</td>\n",
       "      <td>2.77</td>\n",
       "      <td>78.86</td>\n",
       "      <td>0.926</td>\n",
       "      <td>2</td>\n",
       "      <td>8</td>\n",
       "      <td>2022</td>\n",
       "      <td>1</td>\n",
       "      <td>9.143123e+07</td>\n",
       "    </tr>\n",
       "    <tr>\n",
       "      <th>9</th>\n",
       "      <td>9</td>\n",
       "      <td>201993</td>\n",
       "      <td>2022-08-03</td>\n",
       "      <td>USA</td>\n",
       "      <td>North America</td>\n",
       "      <td>United States</td>\n",
       "      <td>91825411.0</td>\n",
       "      <td>200625.0</td>\n",
       "      <td>118168.429</td>\n",
       "      <td>1032588.0</td>\n",
       "      <td>...</td>\n",
       "      <td>24.6</td>\n",
       "      <td>NaN</td>\n",
       "      <td>2.77</td>\n",
       "      <td>78.86</td>\n",
       "      <td>0.926</td>\n",
       "      <td>3</td>\n",
       "      <td>8</td>\n",
       "      <td>2022</td>\n",
       "      <td>2</td>\n",
       "      <td>9.155328e+07</td>\n",
       "    </tr>\n",
       "    <tr>\n",
       "      <th>10</th>\n",
       "      <td>10</td>\n",
       "      <td>201994</td>\n",
       "      <td>2022-08-04</td>\n",
       "      <td>USA</td>\n",
       "      <td>North America</td>\n",
       "      <td>United States</td>\n",
       "      <td>92012431.0</td>\n",
       "      <td>187020.0</td>\n",
       "      <td>119608.000</td>\n",
       "      <td>1033205.0</td>\n",
       "      <td>...</td>\n",
       "      <td>24.6</td>\n",
       "      <td>NaN</td>\n",
       "      <td>2.77</td>\n",
       "      <td>78.86</td>\n",
       "      <td>0.926</td>\n",
       "      <td>4</td>\n",
       "      <td>8</td>\n",
       "      <td>2022</td>\n",
       "      <td>3</td>\n",
       "      <td>9.171094e+07</td>\n",
       "    </tr>\n",
       "    <tr>\n",
       "      <th>11</th>\n",
       "      <td>11</td>\n",
       "      <td>201995</td>\n",
       "      <td>2022-08-05</td>\n",
       "      <td>USA</td>\n",
       "      <td>North America</td>\n",
       "      <td>United States</td>\n",
       "      <td>92118942.0</td>\n",
       "      <td>106511.0</td>\n",
       "      <td>111992.857</td>\n",
       "      <td>1033921.0</td>\n",
       "      <td>...</td>\n",
       "      <td>24.6</td>\n",
       "      <td>NaN</td>\n",
       "      <td>2.77</td>\n",
       "      <td>78.86</td>\n",
       "      <td>0.926</td>\n",
       "      <td>5</td>\n",
       "      <td>8</td>\n",
       "      <td>2022</td>\n",
       "      <td>4</td>\n",
       "      <td>9.185756e+07</td>\n",
       "    </tr>\n",
       "    <tr>\n",
       "      <th>12</th>\n",
       "      <td>12</td>\n",
       "      <td>201996</td>\n",
       "      <td>2022-08-06</td>\n",
       "      <td>USA</td>\n",
       "      <td>North America</td>\n",
       "      <td>United States</td>\n",
       "      <td>92133841.0</td>\n",
       "      <td>14899.0</td>\n",
       "      <td>111843.714</td>\n",
       "      <td>1033961.0</td>\n",
       "      <td>...</td>\n",
       "      <td>24.6</td>\n",
       "      <td>NaN</td>\n",
       "      <td>2.77</td>\n",
       "      <td>78.86</td>\n",
       "      <td>0.926</td>\n",
       "      <td>6</td>\n",
       "      <td>8</td>\n",
       "      <td>2022</td>\n",
       "      <td>5</td>\n",
       "      <td>9.196481e+07</td>\n",
       "    </tr>\n",
       "    <tr>\n",
       "      <th>13</th>\n",
       "      <td>13</td>\n",
       "      <td>201997</td>\n",
       "      <td>2022-08-07</td>\n",
       "      <td>USA</td>\n",
       "      <td>North America</td>\n",
       "      <td>United States</td>\n",
       "      <td>92146346.0</td>\n",
       "      <td>12505.0</td>\n",
       "      <td>111782.286</td>\n",
       "      <td>1033991.0</td>\n",
       "      <td>...</td>\n",
       "      <td>24.6</td>\n",
       "      <td>NaN</td>\n",
       "      <td>2.77</td>\n",
       "      <td>78.86</td>\n",
       "      <td>0.926</td>\n",
       "      <td>7</td>\n",
       "      <td>8</td>\n",
       "      <td>2022</td>\n",
       "      <td>6</td>\n",
       "      <td>9.202103e+07</td>\n",
       "    </tr>\n",
       "  </tbody>\n",
       "</table>\n",
       "<p>14 rows × 60 columns</p>\n",
       "</div>"
      ],
      "text/plain": [
       "    level_0   index       date iso_code      continent        country  \\\n",
       "0         0  201984 2022-07-25      USA  North America  United States   \n",
       "1         1  201985 2022-07-26      USA  North America  United States   \n",
       "2         2  201986 2022-07-27      USA  North America  United States   \n",
       "3         3  201987 2022-07-28      USA  North America  United States   \n",
       "4         4  201988 2022-07-29      USA  North America  United States   \n",
       "5         5  201989 2022-07-30      USA  North America  United States   \n",
       "6         6  201990 2022-07-31      USA  North America  United States   \n",
       "7         7  201991 2022-08-01      USA  North America  United States   \n",
       "8         8  201992 2022-08-02      USA  North America  United States   \n",
       "9         9  201993 2022-08-03      USA  North America  United States   \n",
       "10       10  201994 2022-08-04      USA  North America  United States   \n",
       "11       11  201995 2022-08-05      USA  North America  United States   \n",
       "12       12  201996 2022-08-06      USA  North America  United States   \n",
       "13       13  201997 2022-08-07      USA  North America  United States   \n",
       "\n",
       "    total_cases  new_cases  new_cases_smoothed  total_deaths  ...  \\\n",
       "0    90626223.0   189868.0          125747.286     1027837.0  ...   \n",
       "1    90758320.0   132097.0          127877.286     1028387.0  ...   \n",
       "2    90998232.0   239912.0          131222.143     1029340.0  ...   \n",
       "3    91175175.0   176943.0          131448.857     1029740.0  ...   \n",
       "4    91334992.0   159817.0          135432.429     1030366.0  ...   \n",
       "5    91350935.0    15943.0          133962.857     1030397.0  ...   \n",
       "6    91363870.0    12935.0          132502.143     1030409.0  ...   \n",
       "7    91533934.0   170064.0          129673.000     1030983.0  ...   \n",
       "8    91624786.0    90852.0          123780.857     1031493.0  ...   \n",
       "9    91825411.0   200625.0          118168.429     1032588.0  ...   \n",
       "10   92012431.0   187020.0          119608.000     1033205.0  ...   \n",
       "11   92118942.0   106511.0          111992.857     1033921.0  ...   \n",
       "12   92133841.0    14899.0          111843.714     1033961.0  ...   \n",
       "13   92146346.0    12505.0          111782.286     1033991.0  ...   \n",
       "\n",
       "    male_smokers  handwashing_facilities  hospital_beds_per_thousand  \\\n",
       "0           24.6                     NaN                        2.77   \n",
       "1           24.6                     NaN                        2.77   \n",
       "2           24.6                     NaN                        2.77   \n",
       "3           24.6                     NaN                        2.77   \n",
       "4           24.6                     NaN                        2.77   \n",
       "5           24.6                     NaN                        2.77   \n",
       "6           24.6                     NaN                        2.77   \n",
       "7           24.6                     NaN                        2.77   \n",
       "8           24.6                     NaN                        2.77   \n",
       "9           24.6                     NaN                        2.77   \n",
       "10          24.6                     NaN                        2.77   \n",
       "11          24.6                     NaN                        2.77   \n",
       "12          24.6                     NaN                        2.77   \n",
       "13          24.6                     NaN                        2.77   \n",
       "\n",
       "    life_expectancy  human_development_index  day of month  month  year  \\\n",
       "0             78.86                    0.926            25      7  2022   \n",
       "1             78.86                    0.926            26      7  2022   \n",
       "2             78.86                    0.926            27      7  2022   \n",
       "3             78.86                    0.926            28      7  2022   \n",
       "4             78.86                    0.926            29      7  2022   \n",
       "5             78.86                    0.926            30      7  2022   \n",
       "6             78.86                    0.926            31      7  2022   \n",
       "7             78.86                    0.926             1      8  2022   \n",
       "8             78.86                    0.926             2      8  2022   \n",
       "9             78.86                    0.926             3      8  2022   \n",
       "10            78.86                    0.926             4      8  2022   \n",
       "11            78.86                    0.926             5      8  2022   \n",
       "12            78.86                    0.926             6      8  2022   \n",
       "13            78.86                    0.926             7      8  2022   \n",
       "\n",
       "    day of week         ARIMA  \n",
       "0             0  9.046537e+07  \n",
       "1             1  9.060974e+07  \n",
       "2             2  9.073185e+07  \n",
       "3             3  9.091287e+07  \n",
       "4             4  9.107298e+07  \n",
       "5             5  9.118922e+07  \n",
       "6             6  9.123222e+07  \n",
       "7             0  9.129972e+07  \n",
       "8             1  9.143123e+07  \n",
       "9             2  9.155328e+07  \n",
       "10            3  9.171094e+07  \n",
       "11            4  9.185756e+07  \n",
       "12            5  9.196481e+07  \n",
       "13            6  9.202103e+07  \n",
       "\n",
       "[14 rows x 60 columns]"
      ]
     },
     "execution_count": 77,
     "metadata": {},
     "output_type": "execute_result"
    }
   ],
   "source": [
    "#data_usa_test=data_usa_test.drop(columns=[\"index\"])\n",
    "#data_usa_test = data_usa_test.reset_index()\n",
    "\n",
    "test_values = pd.DataFrame(model_1.forecast(steps=len(data_usa_test)))\n",
    "test_values = test_values.reset_index()\n",
    "test_values\n",
    "data_usa_test[\"ARIMA\"] = test_values.iloc[:, 1]\n",
    "#covid_data_usa_test[\"ARIMA\"] = test_values['predicted_mean']\n",
    "\n",
    "data_usa_test\n",
    "#covid_data_usa_test\n",
    "#covid_data_usa_test.drop(columns=[\"ARIMA\",\"Prediction\",\"a\",\"pred_values\"])"
   ]
  },
  {
   "cell_type": "code",
   "execution_count": 78,
   "metadata": {},
   "outputs": [],
   "source": [
    "#Evaluation Metrics\n",
    "\n",
    "def MAPE(y_true, y_pred): \n",
    "    y_true, y_pred = np.array(y_true), np.array(y_pred)\n",
    "    return np.mean(np.abs((y_true - y_pred) / y_true))*100\n",
    "\n",
    "def MAE(y_actual, y_predictions):\n",
    "    y_actual, y_predictions = np.array(y_actual), np.array(y_predictions)\n",
    "    return np.mean(np.abs(y_actual - y_predictions))\n",
    "\n",
    "def RMSE(y_actual, y_predictions):\n",
    "    return math.sqrt(np.square(np.subtract(y_actual,y_predictions)).mean())\n",
    "\n",
    "def NRMSE(y_actual: np.ndarray, y_predictions: np.ndarray):\n",
    "    return RMSE(y_actual, y_predictions) / (y_actual.max() - y_actual.min())"
   ]
  },
  {
   "cell_type": "code",
   "execution_count": 79,
   "metadata": {},
   "outputs": [
    {
     "data": {
      "text/plain": [
       "0.23028379863383"
      ]
     },
     "execution_count": 79,
     "metadata": {},
     "output_type": "execute_result"
    }
   ],
   "source": [
    "MAPE(data_usa_test.total_cases,data_usa_test.ARIMA)"
   ]
  },
  {
   "cell_type": "code",
   "execution_count": 80,
   "metadata": {},
   "outputs": [
    {
     "data": {
      "text/plain": [
       "210758.97360877905"
      ]
     },
     "execution_count": 80,
     "metadata": {},
     "output_type": "execute_result"
    }
   ],
   "source": [
    "MAE(data_usa_test.total_cases,data_usa_test.ARIMA)"
   ]
  },
  {
   "cell_type": "code",
   "execution_count": 81,
   "metadata": {},
   "outputs": [
    {
     "data": {
      "text/plain": [
       "218716.52662951476"
      ]
     },
     "execution_count": 81,
     "metadata": {},
     "output_type": "execute_result"
    }
   ],
   "source": [
    "RMSE(data_usa_test.total_cases,data_usa_test.ARIMA)"
   ]
  },
  {
   "cell_type": "code",
   "execution_count": 82,
   "metadata": {},
   "outputs": [
    {
     "data": {
      "text/plain": [
       "0.14388080874344691"
      ]
     },
     "execution_count": 82,
     "metadata": {},
     "output_type": "execute_result"
    }
   ],
   "source": [
    "NRMSE(data_usa_test.total_cases,data_usa_test.ARIMA)"
   ]
  },
  {
   "cell_type": "code",
   "execution_count": 83,
   "metadata": {},
   "outputs": [],
   "source": [
    "def arimamodel(timeseriesdf):\n",
    "    autoarima_model = auto_arima(timeseriesdf.total_cases, \n",
    "                                start_p=0, start_q=0, max_p=7, max_q=7,\n",
    "                                seasonal=False,\n",
    "                                d=None, trace=True, enforce_stationarity=False, enforce_invertibility = False,\n",
    "                                error_action='ignore', suppress_warnings=True, maxiter = 50, stepwise=True)\n",
    "    return autoarima_model"
   ]
  },
  {
   "cell_type": "code",
   "execution_count": 84,
   "metadata": {},
   "outputs": [
    {
     "name": "stdout",
     "output_type": "stream",
     "text": [
      "Performing stepwise search to minimize aic\n",
      " ARIMA(0,2,0)(0,0,0)[0] intercept   : AIC=22918.110, Time=0.04 sec\n",
      " ARIMA(1,2,0)(0,0,0)[0] intercept   : AIC=22827.365, Time=0.03 sec\n",
      " ARIMA(0,2,1)(0,0,0)[0] intercept   : AIC=22646.521, Time=0.05 sec\n",
      " ARIMA(0,2,0)(0,0,0)[0]             : AIC=22916.112, Time=0.02 sec\n",
      " ARIMA(1,2,1)(0,0,0)[0] intercept   : AIC=22636.560, Time=0.08 sec\n",
      " ARIMA(2,2,1)(0,0,0)[0] intercept   : AIC=22599.106, Time=0.11 sec\n",
      " ARIMA(2,2,0)(0,0,0)[0] intercept   : AIC=22681.775, Time=0.03 sec\n",
      " ARIMA(3,2,1)(0,0,0)[0] intercept   : AIC=22601.069, Time=0.16 sec\n",
      " ARIMA(2,2,2)(0,0,0)[0] intercept   : AIC=22435.816, Time=0.65 sec\n",
      " ARIMA(1,2,2)(0,0,0)[0] intercept   : AIC=22609.028, Time=0.12 sec\n",
      " ARIMA(3,2,2)(0,0,0)[0] intercept   : AIC=22668.952, Time=0.55 sec\n",
      " ARIMA(2,2,3)(0,0,0)[0] intercept   : AIC=22457.633, Time=0.47 sec\n",
      " ARIMA(1,2,3)(0,0,0)[0] intercept   : AIC=22496.255, Time=0.31 sec\n",
      " ARIMA(3,2,3)(0,0,0)[0] intercept   : AIC=22458.145, Time=0.78 sec\n",
      " ARIMA(2,2,2)(0,0,0)[0]             : AIC=22433.531, Time=0.71 sec\n",
      " ARIMA(1,2,2)(0,0,0)[0]             : AIC=22607.033, Time=0.12 sec\n",
      " ARIMA(2,2,1)(0,0,0)[0]             : AIC=22597.129, Time=0.09 sec\n",
      " ARIMA(3,2,2)(0,0,0)[0]             : AIC=22671.143, Time=0.17 sec\n",
      " ARIMA(2,2,3)(0,0,0)[0]             : AIC=22455.659, Time=0.44 sec\n",
      " ARIMA(1,2,1)(0,0,0)[0]             : AIC=22634.536, Time=0.07 sec\n",
      " ARIMA(1,2,3)(0,0,0)[0]             : AIC=22494.157, Time=0.27 sec\n",
      " ARIMA(3,2,1)(0,0,0)[0]             : AIC=22599.093, Time=0.14 sec\n",
      " ARIMA(3,2,3)(0,0,0)[0]             : AIC=22456.171, Time=0.74 sec\n",
      "\n",
      "Best model:  ARIMA(2,2,2)(0,0,0)[0]          \n",
      "Total fit time: 6.170 seconds\n"
     ]
    },
    {
     "data": {
      "text/html": [
       "<table class=\"simpletable\">\n",
       "<caption>SARIMAX Results</caption>\n",
       "<tr>\n",
       "  <th>Dep. Variable:</th>           <td>y</td>        <th>  No. Observations:  </th>     <td>904</td>   \n",
       "</tr>\n",
       "<tr>\n",
       "  <th>Model:</th>           <td>SARIMAX(2, 2, 2)</td> <th>  Log Likelihood     </th> <td>-11211.765</td>\n",
       "</tr>\n",
       "<tr>\n",
       "  <th>Date:</th>            <td>Sat, 03 Dec 2022</td> <th>  AIC                </th>  <td>22433.531</td>\n",
       "</tr>\n",
       "<tr>\n",
       "  <th>Time:</th>                <td>18:13:14</td>     <th>  BIC                </th>  <td>22457.554</td>\n",
       "</tr>\n",
       "<tr>\n",
       "  <th>Sample:</th>                  <td>0</td>        <th>  HQIC               </th>  <td>22442.707</td>\n",
       "</tr>\n",
       "<tr>\n",
       "  <th></th>                      <td> - 904</td>      <th>                     </th>      <td> </td>    \n",
       "</tr>\n",
       "<tr>\n",
       "  <th>Covariance Type:</th>        <td>opg</td>       <th>                     </th>      <td> </td>    \n",
       "</tr>\n",
       "</table>\n",
       "<table class=\"simpletable\">\n",
       "<tr>\n",
       "     <td></td>       <th>coef</th>     <th>std err</th>      <th>z</th>      <th>P>|z|</th>  <th>[0.025</th>    <th>0.975]</th>  \n",
       "</tr>\n",
       "<tr>\n",
       "  <th>ar.L1</th>  <td>    0.9063</td> <td>    0.015</td> <td>   59.955</td> <td> 0.000</td> <td>    0.877</td> <td>    0.936</td>\n",
       "</tr>\n",
       "<tr>\n",
       "  <th>ar.L2</th>  <td>   -0.5278</td> <td>    0.012</td> <td>  -45.528</td> <td> 0.000</td> <td>   -0.551</td> <td>   -0.505</td>\n",
       "</tr>\n",
       "<tr>\n",
       "  <th>ma.L1</th>  <td>   -1.6388</td> <td>    0.014</td> <td> -117.038</td> <td> 0.000</td> <td>   -1.666</td> <td>   -1.611</td>\n",
       "</tr>\n",
       "<tr>\n",
       "  <th>ma.L2</th>  <td>    0.8870</td> <td>    0.013</td> <td>   69.953</td> <td> 0.000</td> <td>    0.862</td> <td>    0.912</td>\n",
       "</tr>\n",
       "<tr>\n",
       "  <th>sigma2</th> <td> 4.348e+09</td> <td> 1.09e-12</td> <td>    4e+21</td> <td> 0.000</td> <td> 4.35e+09</td> <td> 4.35e+09</td>\n",
       "</tr>\n",
       "</table>\n",
       "<table class=\"simpletable\">\n",
       "<tr>\n",
       "  <th>Ljung-Box (L1) (Q):</th>      <td>2.80</td>  <th>  Jarque-Bera (JB):  </th> <td>18346.22</td>\n",
       "</tr>\n",
       "<tr>\n",
       "  <th>Prob(Q):</th>                 <td>0.09</td>  <th>  Prob(JB):          </th>   <td>0.00</td>  \n",
       "</tr>\n",
       "<tr>\n",
       "  <th>Heteroskedasticity (H):</th> <td>117.19</td> <th>  Skew:              </th>   <td>0.11</td>  \n",
       "</tr>\n",
       "<tr>\n",
       "  <th>Prob(H) (two-sided):</th>     <td>0.00</td>  <th>  Kurtosis:          </th>   <td>25.09</td> \n",
       "</tr>\n",
       "</table><br/><br/>Warnings:<br/>[1] Covariance matrix calculated using the outer product of gradients (complex-step).<br/>[2] Covariance matrix is singular or near-singular, with condition number 1.98e+36. Standard errors may be unstable."
      ],
      "text/plain": [
       "<class 'statsmodels.iolib.summary.Summary'>\n",
       "\"\"\"\n",
       "                               SARIMAX Results                                \n",
       "==============================================================================\n",
       "Dep. Variable:                      y   No. Observations:                  904\n",
       "Model:               SARIMAX(2, 2, 2)   Log Likelihood              -11211.765\n",
       "Date:                Sat, 03 Dec 2022   AIC                          22433.531\n",
       "Time:                        18:13:14   BIC                          22457.554\n",
       "Sample:                             0   HQIC                         22442.707\n",
       "                                - 904                                         \n",
       "Covariance Type:                  opg                                         \n",
       "==============================================================================\n",
       "                 coef    std err          z      P>|z|      [0.025      0.975]\n",
       "------------------------------------------------------------------------------\n",
       "ar.L1          0.9063      0.015     59.955      0.000       0.877       0.936\n",
       "ar.L2         -0.5278      0.012    -45.528      0.000      -0.551      -0.505\n",
       "ma.L1         -1.6388      0.014   -117.038      0.000      -1.666      -1.611\n",
       "ma.L2          0.8870      0.013     69.953      0.000       0.862       0.912\n",
       "sigma2      4.348e+09   1.09e-12      4e+21      0.000    4.35e+09    4.35e+09\n",
       "===================================================================================\n",
       "Ljung-Box (L1) (Q):                   2.80   Jarque-Bera (JB):             18346.22\n",
       "Prob(Q):                              0.09   Prob(JB):                         0.00\n",
       "Heteroskedasticity (H):             117.19   Skew:                             0.11\n",
       "Prob(H) (two-sided):                  0.00   Kurtosis:                        25.09\n",
       "===================================================================================\n",
       "\n",
       "Warnings:\n",
       "[1] Covariance matrix calculated using the outer product of gradients (complex-step).\n",
       "[2] Covariance matrix is singular or near-singular, with condition number 1.98e+36. Standard errors may be unstable.\n",
       "\"\"\""
      ]
     },
     "execution_count": 84,
     "metadata": {},
     "output_type": "execute_result"
    }
   ],
   "source": [
    "arima_model = arimamodel(data_usa_train)\n",
    "arima_model.summary()"
   ]
  },
  {
   "cell_type": "code",
   "execution_count": 97,
   "metadata": {},
   "outputs": [
    {
     "name": "stderr",
     "output_type": "stream",
     "text": [
      "/Users/sweethome/opt/anaconda3/lib/python3.8/site-packages/statsmodels/tsa/base/tsa_model.py:834: ValueWarning: No supported index is available. Prediction results will be given with an integer index beginning at `start`.\n",
      "  return get_prediction_index(\n"
     ]
    },
    {
     "data": {
      "text/html": [
       "<div>\n",
       "<style scoped>\n",
       "    .dataframe tbody tr th:only-of-type {\n",
       "        vertical-align: middle;\n",
       "    }\n",
       "\n",
       "    .dataframe tbody tr th {\n",
       "        vertical-align: top;\n",
       "    }\n",
       "\n",
       "    .dataframe thead th {\n",
       "        text-align: right;\n",
       "    }\n",
       "</style>\n",
       "<table border=\"1\" class=\"dataframe\">\n",
       "  <thead>\n",
       "    <tr style=\"text-align: right;\">\n",
       "      <th></th>\n",
       "      <th>index</th>\n",
       "      <th>level_0</th>\n",
       "      <th>date</th>\n",
       "      <th>iso_code</th>\n",
       "      <th>continent</th>\n",
       "      <th>country</th>\n",
       "      <th>total_cases</th>\n",
       "      <th>new_cases</th>\n",
       "      <th>new_cases_smoothed</th>\n",
       "      <th>total_deaths</th>\n",
       "      <th>...</th>\n",
       "      <th>male_smokers</th>\n",
       "      <th>handwashing_facilities</th>\n",
       "      <th>hospital_beds_per_thousand</th>\n",
       "      <th>life_expectancy</th>\n",
       "      <th>human_development_index</th>\n",
       "      <th>day of month</th>\n",
       "      <th>month</th>\n",
       "      <th>year</th>\n",
       "      <th>day of week</th>\n",
       "      <th>ARIMA</th>\n",
       "    </tr>\n",
       "  </thead>\n",
       "  <tbody>\n",
       "    <tr>\n",
       "      <th>0</th>\n",
       "      <td>0</td>\n",
       "      <td>0</td>\n",
       "      <td>2022-07-25</td>\n",
       "      <td>USA</td>\n",
       "      <td>North America</td>\n",
       "      <td>United States</td>\n",
       "      <td>90626223.0</td>\n",
       "      <td>189868.0</td>\n",
       "      <td>125747.286</td>\n",
       "      <td>1027837.0</td>\n",
       "      <td>...</td>\n",
       "      <td>24.6</td>\n",
       "      <td>NaN</td>\n",
       "      <td>2.77</td>\n",
       "      <td>78.86</td>\n",
       "      <td>0.926</td>\n",
       "      <td>25</td>\n",
       "      <td>7</td>\n",
       "      <td>2022</td>\n",
       "      <td>0</td>\n",
       "      <td>90488288.0</td>\n",
       "    </tr>\n",
       "    <tr>\n",
       "      <th>1</th>\n",
       "      <td>1</td>\n",
       "      <td>1</td>\n",
       "      <td>2022-07-26</td>\n",
       "      <td>USA</td>\n",
       "      <td>North America</td>\n",
       "      <td>United States</td>\n",
       "      <td>90758320.0</td>\n",
       "      <td>132097.0</td>\n",
       "      <td>127877.286</td>\n",
       "      <td>1028387.0</td>\n",
       "      <td>...</td>\n",
       "      <td>24.6</td>\n",
       "      <td>NaN</td>\n",
       "      <td>2.77</td>\n",
       "      <td>78.86</td>\n",
       "      <td>0.926</td>\n",
       "      <td>26</td>\n",
       "      <td>7</td>\n",
       "      <td>2022</td>\n",
       "      <td>1</td>\n",
       "      <td>90624848.0</td>\n",
       "    </tr>\n",
       "    <tr>\n",
       "      <th>2</th>\n",
       "      <td>2</td>\n",
       "      <td>2</td>\n",
       "      <td>2022-07-27</td>\n",
       "      <td>USA</td>\n",
       "      <td>North America</td>\n",
       "      <td>United States</td>\n",
       "      <td>90998232.0</td>\n",
       "      <td>239912.0</td>\n",
       "      <td>131222.143</td>\n",
       "      <td>1029340.0</td>\n",
       "      <td>...</td>\n",
       "      <td>24.6</td>\n",
       "      <td>NaN</td>\n",
       "      <td>2.77</td>\n",
       "      <td>78.86</td>\n",
       "      <td>0.926</td>\n",
       "      <td>27</td>\n",
       "      <td>7</td>\n",
       "      <td>2022</td>\n",
       "      <td>2</td>\n",
       "      <td>90791328.0</td>\n",
       "    </tr>\n",
       "    <tr>\n",
       "      <th>3</th>\n",
       "      <td>3</td>\n",
       "      <td>3</td>\n",
       "      <td>2022-07-28</td>\n",
       "      <td>USA</td>\n",
       "      <td>North America</td>\n",
       "      <td>United States</td>\n",
       "      <td>91175175.0</td>\n",
       "      <td>176943.0</td>\n",
       "      <td>131448.857</td>\n",
       "      <td>1029740.0</td>\n",
       "      <td>...</td>\n",
       "      <td>24.6</td>\n",
       "      <td>NaN</td>\n",
       "      <td>2.77</td>\n",
       "      <td>78.86</td>\n",
       "      <td>0.926</td>\n",
       "      <td>28</td>\n",
       "      <td>7</td>\n",
       "      <td>2022</td>\n",
       "      <td>3</td>\n",
       "      <td>90952480.0</td>\n",
       "    </tr>\n",
       "    <tr>\n",
       "      <th>4</th>\n",
       "      <td>4</td>\n",
       "      <td>4</td>\n",
       "      <td>2022-07-29</td>\n",
       "      <td>USA</td>\n",
       "      <td>North America</td>\n",
       "      <td>United States</td>\n",
       "      <td>91334992.0</td>\n",
       "      <td>159817.0</td>\n",
       "      <td>135432.429</td>\n",
       "      <td>1030366.0</td>\n",
       "      <td>...</td>\n",
       "      <td>24.6</td>\n",
       "      <td>NaN</td>\n",
       "      <td>2.77</td>\n",
       "      <td>78.86</td>\n",
       "      <td>0.926</td>\n",
       "      <td>29</td>\n",
       "      <td>7</td>\n",
       "      <td>2022</td>\n",
       "      <td>4</td>\n",
       "      <td>91093008.0</td>\n",
       "    </tr>\n",
       "    <tr>\n",
       "      <th>5</th>\n",
       "      <td>5</td>\n",
       "      <td>5</td>\n",
       "      <td>2022-07-30</td>\n",
       "      <td>USA</td>\n",
       "      <td>North America</td>\n",
       "      <td>United States</td>\n",
       "      <td>91350935.0</td>\n",
       "      <td>15943.0</td>\n",
       "      <td>133962.857</td>\n",
       "      <td>1030397.0</td>\n",
       "      <td>...</td>\n",
       "      <td>24.6</td>\n",
       "      <td>NaN</td>\n",
       "      <td>2.77</td>\n",
       "      <td>78.86</td>\n",
       "      <td>0.926</td>\n",
       "      <td>30</td>\n",
       "      <td>7</td>\n",
       "      <td>2022</td>\n",
       "      <td>5</td>\n",
       "      <td>91217664.0</td>\n",
       "    </tr>\n",
       "    <tr>\n",
       "      <th>6</th>\n",
       "      <td>6</td>\n",
       "      <td>6</td>\n",
       "      <td>2022-07-31</td>\n",
       "      <td>USA</td>\n",
       "      <td>North America</td>\n",
       "      <td>United States</td>\n",
       "      <td>91363870.0</td>\n",
       "      <td>12935.0</td>\n",
       "      <td>132502.143</td>\n",
       "      <td>1030409.0</td>\n",
       "      <td>...</td>\n",
       "      <td>24.6</td>\n",
       "      <td>NaN</td>\n",
       "      <td>2.77</td>\n",
       "      <td>78.86</td>\n",
       "      <td>0.926</td>\n",
       "      <td>31</td>\n",
       "      <td>7</td>\n",
       "      <td>2022</td>\n",
       "      <td>6</td>\n",
       "      <td>91338808.0</td>\n",
       "    </tr>\n",
       "    <tr>\n",
       "      <th>7</th>\n",
       "      <td>7</td>\n",
       "      <td>7</td>\n",
       "      <td>2022-08-01</td>\n",
       "      <td>USA</td>\n",
       "      <td>North America</td>\n",
       "      <td>United States</td>\n",
       "      <td>91533934.0</td>\n",
       "      <td>170064.0</td>\n",
       "      <td>129673.000</td>\n",
       "      <td>1030983.0</td>\n",
       "      <td>...</td>\n",
       "      <td>24.6</td>\n",
       "      <td>NaN</td>\n",
       "      <td>2.77</td>\n",
       "      <td>78.86</td>\n",
       "      <td>0.926</td>\n",
       "      <td>1</td>\n",
       "      <td>8</td>\n",
       "      <td>2022</td>\n",
       "      <td>0</td>\n",
       "      <td>91465160.0</td>\n",
       "    </tr>\n",
       "    <tr>\n",
       "      <th>8</th>\n",
       "      <td>8</td>\n",
       "      <td>8</td>\n",
       "      <td>2022-08-02</td>\n",
       "      <td>USA</td>\n",
       "      <td>North America</td>\n",
       "      <td>United States</td>\n",
       "      <td>91624786.0</td>\n",
       "      <td>90852.0</td>\n",
       "      <td>123780.857</td>\n",
       "      <td>1031493.0</td>\n",
       "      <td>...</td>\n",
       "      <td>24.6</td>\n",
       "      <td>NaN</td>\n",
       "      <td>2.77</td>\n",
       "      <td>78.86</td>\n",
       "      <td>0.926</td>\n",
       "      <td>2</td>\n",
       "      <td>8</td>\n",
       "      <td>2022</td>\n",
       "      <td>1</td>\n",
       "      <td>91598072.0</td>\n",
       "    </tr>\n",
       "    <tr>\n",
       "      <th>9</th>\n",
       "      <td>9</td>\n",
       "      <td>9</td>\n",
       "      <td>2022-08-03</td>\n",
       "      <td>USA</td>\n",
       "      <td>North America</td>\n",
       "      <td>United States</td>\n",
       "      <td>91825411.0</td>\n",
       "      <td>200625.0</td>\n",
       "      <td>118168.429</td>\n",
       "      <td>1032588.0</td>\n",
       "      <td>...</td>\n",
       "      <td>24.6</td>\n",
       "      <td>NaN</td>\n",
       "      <td>2.77</td>\n",
       "      <td>78.86</td>\n",
       "      <td>0.926</td>\n",
       "      <td>3</td>\n",
       "      <td>8</td>\n",
       "      <td>2022</td>\n",
       "      <td>2</td>\n",
       "      <td>91734200.0</td>\n",
       "    </tr>\n",
       "    <tr>\n",
       "      <th>10</th>\n",
       "      <td>10</td>\n",
       "      <td>10</td>\n",
       "      <td>2022-08-04</td>\n",
       "      <td>USA</td>\n",
       "      <td>North America</td>\n",
       "      <td>United States</td>\n",
       "      <td>92012431.0</td>\n",
       "      <td>187020.0</td>\n",
       "      <td>119608.000</td>\n",
       "      <td>1033205.0</td>\n",
       "      <td>...</td>\n",
       "      <td>24.6</td>\n",
       "      <td>NaN</td>\n",
       "      <td>2.77</td>\n",
       "      <td>78.86</td>\n",
       "      <td>0.926</td>\n",
       "      <td>4</td>\n",
       "      <td>8</td>\n",
       "      <td>2022</td>\n",
       "      <td>3</td>\n",
       "      <td>91869760.0</td>\n",
       "    </tr>\n",
       "    <tr>\n",
       "      <th>11</th>\n",
       "      <td>11</td>\n",
       "      <td>11</td>\n",
       "      <td>2022-08-05</td>\n",
       "      <td>USA</td>\n",
       "      <td>North America</td>\n",
       "      <td>United States</td>\n",
       "      <td>92118942.0</td>\n",
       "      <td>106511.0</td>\n",
       "      <td>111992.857</td>\n",
       "      <td>1033921.0</td>\n",
       "      <td>...</td>\n",
       "      <td>24.6</td>\n",
       "      <td>NaN</td>\n",
       "      <td>2.77</td>\n",
       "      <td>78.86</td>\n",
       "      <td>0.926</td>\n",
       "      <td>5</td>\n",
       "      <td>8</td>\n",
       "      <td>2022</td>\n",
       "      <td>4</td>\n",
       "      <td>92003120.0</td>\n",
       "    </tr>\n",
       "    <tr>\n",
       "      <th>12</th>\n",
       "      <td>12</td>\n",
       "      <td>12</td>\n",
       "      <td>2022-08-06</td>\n",
       "      <td>USA</td>\n",
       "      <td>North America</td>\n",
       "      <td>United States</td>\n",
       "      <td>92133841.0</td>\n",
       "      <td>14899.0</td>\n",
       "      <td>111843.714</td>\n",
       "      <td>1033961.0</td>\n",
       "      <td>...</td>\n",
       "      <td>24.6</td>\n",
       "      <td>NaN</td>\n",
       "      <td>2.77</td>\n",
       "      <td>78.86</td>\n",
       "      <td>0.926</td>\n",
       "      <td>6</td>\n",
       "      <td>8</td>\n",
       "      <td>2022</td>\n",
       "      <td>5</td>\n",
       "      <td>92134776.0</td>\n",
       "    </tr>\n",
       "    <tr>\n",
       "      <th>13</th>\n",
       "      <td>13</td>\n",
       "      <td>13</td>\n",
       "      <td>2022-08-07</td>\n",
       "      <td>USA</td>\n",
       "      <td>North America</td>\n",
       "      <td>United States</td>\n",
       "      <td>92146346.0</td>\n",
       "      <td>12505.0</td>\n",
       "      <td>111782.286</td>\n",
       "      <td>1033991.0</td>\n",
       "      <td>...</td>\n",
       "      <td>24.6</td>\n",
       "      <td>NaN</td>\n",
       "      <td>2.77</td>\n",
       "      <td>78.86</td>\n",
       "      <td>0.926</td>\n",
       "      <td>7</td>\n",
       "      <td>8</td>\n",
       "      <td>2022</td>\n",
       "      <td>6</td>\n",
       "      <td>92266064.0</td>\n",
       "    </tr>\n",
       "  </tbody>\n",
       "</table>\n",
       "<p>14 rows × 60 columns</p>\n",
       "</div>"
      ],
      "text/plain": [
       "    index  level_0       date iso_code      continent        country  \\\n",
       "0       0        0 2022-07-25      USA  North America  United States   \n",
       "1       1        1 2022-07-26      USA  North America  United States   \n",
       "2       2        2 2022-07-27      USA  North America  United States   \n",
       "3       3        3 2022-07-28      USA  North America  United States   \n",
       "4       4        4 2022-07-29      USA  North America  United States   \n",
       "5       5        5 2022-07-30      USA  North America  United States   \n",
       "6       6        6 2022-07-31      USA  North America  United States   \n",
       "7       7        7 2022-08-01      USA  North America  United States   \n",
       "8       8        8 2022-08-02      USA  North America  United States   \n",
       "9       9        9 2022-08-03      USA  North America  United States   \n",
       "10     10       10 2022-08-04      USA  North America  United States   \n",
       "11     11       11 2022-08-05      USA  North America  United States   \n",
       "12     12       12 2022-08-06      USA  North America  United States   \n",
       "13     13       13 2022-08-07      USA  North America  United States   \n",
       "\n",
       "    total_cases  new_cases  new_cases_smoothed  total_deaths  ...  \\\n",
       "0    90626223.0   189868.0          125747.286     1027837.0  ...   \n",
       "1    90758320.0   132097.0          127877.286     1028387.0  ...   \n",
       "2    90998232.0   239912.0          131222.143     1029340.0  ...   \n",
       "3    91175175.0   176943.0          131448.857     1029740.0  ...   \n",
       "4    91334992.0   159817.0          135432.429     1030366.0  ...   \n",
       "5    91350935.0    15943.0          133962.857     1030397.0  ...   \n",
       "6    91363870.0    12935.0          132502.143     1030409.0  ...   \n",
       "7    91533934.0   170064.0          129673.000     1030983.0  ...   \n",
       "8    91624786.0    90852.0          123780.857     1031493.0  ...   \n",
       "9    91825411.0   200625.0          118168.429     1032588.0  ...   \n",
       "10   92012431.0   187020.0          119608.000     1033205.0  ...   \n",
       "11   92118942.0   106511.0          111992.857     1033921.0  ...   \n",
       "12   92133841.0    14899.0          111843.714     1033961.0  ...   \n",
       "13   92146346.0    12505.0          111782.286     1033991.0  ...   \n",
       "\n",
       "    male_smokers  handwashing_facilities  hospital_beds_per_thousand  \\\n",
       "0           24.6                     NaN                        2.77   \n",
       "1           24.6                     NaN                        2.77   \n",
       "2           24.6                     NaN                        2.77   \n",
       "3           24.6                     NaN                        2.77   \n",
       "4           24.6                     NaN                        2.77   \n",
       "5           24.6                     NaN                        2.77   \n",
       "6           24.6                     NaN                        2.77   \n",
       "7           24.6                     NaN                        2.77   \n",
       "8           24.6                     NaN                        2.77   \n",
       "9           24.6                     NaN                        2.77   \n",
       "10          24.6                     NaN                        2.77   \n",
       "11          24.6                     NaN                        2.77   \n",
       "12          24.6                     NaN                        2.77   \n",
       "13          24.6                     NaN                        2.77   \n",
       "\n",
       "    life_expectancy  human_development_index  day of month  month  year  \\\n",
       "0             78.86                    0.926            25      7  2022   \n",
       "1             78.86                    0.926            26      7  2022   \n",
       "2             78.86                    0.926            27      7  2022   \n",
       "3             78.86                    0.926            28      7  2022   \n",
       "4             78.86                    0.926            29      7  2022   \n",
       "5             78.86                    0.926            30      7  2022   \n",
       "6             78.86                    0.926            31      7  2022   \n",
       "7             78.86                    0.926             1      8  2022   \n",
       "8             78.86                    0.926             2      8  2022   \n",
       "9             78.86                    0.926             3      8  2022   \n",
       "10            78.86                    0.926             4      8  2022   \n",
       "11            78.86                    0.926             5      8  2022   \n",
       "12            78.86                    0.926             6      8  2022   \n",
       "13            78.86                    0.926             7      8  2022   \n",
       "\n",
       "    day of week       ARIMA  \n",
       "0             0  90488288.0  \n",
       "1             1  90624848.0  \n",
       "2             2  90791328.0  \n",
       "3             3  90952480.0  \n",
       "4             4  91093008.0  \n",
       "5             5  91217664.0  \n",
       "6             6  91338808.0  \n",
       "7             0  91465160.0  \n",
       "8             1  91598072.0  \n",
       "9             2  91734200.0  \n",
       "10            3  91869760.0  \n",
       "11            4  92003120.0  \n",
       "12            5  92134776.0  \n",
       "13            6  92266064.0  \n",
       "\n",
       "[14 rows x 60 columns]"
      ]
     },
     "execution_count": 97,
     "metadata": {},
     "output_type": "execute_result"
    }
   ],
   "source": [
    "data_usa_test=data_usa_test.drop(columns=[\"index\"])\n",
    "data_usa_test = data_usa_test.reset_index()\n",
    "\n",
    "test_values = pd.DataFrame(arima_model.predict(len(data_usa_test)))\n",
    "test_values = test_values.reset_index()\n",
    "test_values\n",
    "data_usa_test[\"ARIMA\"] = test_values.iloc[:, 1]\n",
    "\n",
    "\n",
    "data_usa_test['ARIMA']=pd.to_numeric(data_usa_test['ARIMA'], downcast=\"float\")\n",
    "data_usa_test\n"
   ]
  },
  {
   "cell_type": "code",
   "execution_count": 98,
   "metadata": {},
   "outputs": [
    {
     "name": "stdout",
     "output_type": "stream",
     "text": [
      "MAPE :  0.1303209090783942\n",
      "MAE :  119083.42857142857\n",
      "RMSE :  138371.82254914267\n",
      "NRMSE :  0.09102672780369922\n"
     ]
    }
   ],
   "source": [
    "print(\"MAPE : \",MAPE(data_usa_test.total_cases,data_usa_test.ARIMA))\n",
    "print(\"MAE : \",MAE(data_usa_test.total_cases,data_usa_test.ARIMA))\n",
    "print(\"RMSE : \",RMSE(data_usa_test.total_cases,data_usa_test.ARIMA))\n",
    "print(\"NRMSE : \",NRMSE(data_usa_test.total_cases,data_usa_test.ARIMA))"
   ]
  },
  {
   "cell_type": "code",
   "execution_count": null,
   "metadata": {},
   "outputs": [],
   "source": []
  }
 ],
 "metadata": {
  "kernelspec": {
   "display_name": "Python 3",
   "language": "python",
   "name": "python3"
  },
  "language_info": {
   "codemirror_mode": {
    "name": "ipython",
    "version": 3
   },
   "file_extension": ".py",
   "mimetype": "text/x-python",
   "name": "python",
   "nbconvert_exporter": "python",
   "pygments_lexer": "ipython3",
   "version": "3.8.5"
  }
 },
 "nbformat": 4,
 "nbformat_minor": 4
}
